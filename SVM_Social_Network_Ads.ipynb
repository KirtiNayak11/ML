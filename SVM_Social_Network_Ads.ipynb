{
  "nbformat": 4,
  "nbformat_minor": 0,
  "metadata": {
    "colab": {
      "provenance": [],
      "mount_file_id": "1hL5WgjYLYdhbGCW0299Mgrf2zlL2yjQO",
      "authorship_tag": "ABX9TyM20ImCQjc3FvQCauUaVT1x",
      "include_colab_link": true
    },
    "kernelspec": {
      "name": "python3",
      "display_name": "Python 3"
    },
    "language_info": {
      "name": "python"
    }
  },
  "cells": [
    {
      "cell_type": "markdown",
      "metadata": {
        "id": "view-in-github",
        "colab_type": "text"
      },
      "source": [
        "<a href=\"https://colab.research.google.com/github/KirtiNayak11/ML/blob/main/SVM_Social_Network_Ads.ipynb\" target=\"_parent\"><img src=\"https://colab.research.google.com/assets/colab-badge.svg\" alt=\"Open In Colab\"/></a>"
      ]
    },
    {
      "cell_type": "code",
      "execution_count": null,
      "metadata": {
        "colab": {
          "base_uri": "https://localhost:8080/"
        },
        "id": "26aCkP5F5Z7h",
        "outputId": "3e651553-2c72-4d48-8c8c-70bae840fe64"
      },
      "outputs": [
        {
          "output_type": "stream",
          "name": "stdout",
          "text": [
            "Confusion Matrix:\n",
            "[[66  2]\n",
            " [ 8 24]]\n",
            "\n",
            "Classification Report:\n",
            "              precision    recall  f1-score   support\n",
            "\n",
            "           0       0.89      0.97      0.93        68\n",
            "           1       0.92      0.75      0.83        32\n",
            "\n",
            "    accuracy                           0.90       100\n",
            "   macro avg       0.91      0.86      0.88       100\n",
            "weighted avg       0.90      0.90      0.90       100\n",
            "\n"
          ]
        }
      ],
      "source": [
        "import pandas as pd\n",
        "import numpy as np\n",
        "from sklearn.model_selection import train_test_split\n",
        "from sklearn.preprocessing import StandardScaler\n",
        "from sklearn.svm import SVC\n",
        "from sklearn.metrics import confusion_matrix, classification_report\n",
        "\n",
        "# Load the dataset\n",
        "data = pd.read_csv(\"/content/drive/MyDrive/Social_Network_Ads.csv\")\n",
        "\n",
        "# Preprocess the data\n",
        "X = data.iloc[:, [2, 3]].values  # Age and EstimatedSalary as features\n",
        "y = data.iloc[:, 4].values       # Purchased as target variable\n",
        "\n",
        "X_train, X_test, y_train, y_test = train_test_split(X, y, test_size=0.25, random_state=0)\n",
        "\n",
        "sc = StandardScaler()\n",
        "X_train = sc.fit_transform(X_train)\n",
        "X_test = sc.transform(X_test)\n",
        "\n",
        "# Train SVM model\n",
        "classifier = SVC(kernel='linear', random_state=0)\n",
        "classifier.fit(X_train, y_train)\n",
        "\n",
        "# Make predictions on test data\n",
        "y_pred = classifier.predict(X_test)\n",
        "\n",
        "# Confusion matrix and evaluation metrics\n",
        "cm = confusion_matrix(y_test, y_pred)\n",
        "print(\"Confusion Matrix:\")\n",
        "print(cm)\n",
        "\n",
        "print(\"\\nClassification Report:\")\n",
        "print(classification_report(y_test, y_pred))\n"
      ]
    }
  ]
}