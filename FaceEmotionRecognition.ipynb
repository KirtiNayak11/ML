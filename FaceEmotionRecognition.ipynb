{
  "cells": [
    {
      "cell_type": "markdown",
      "metadata": {
        "id": "view-in-github",
        "colab_type": "text"
      },
      "source": [
        "<a href=\"https://colab.research.google.com/github/KirtiNayak11/ML/blob/main/FaceEmotionRecognition.ipynb\" target=\"_parent\"><img src=\"https://colab.research.google.com/assets/colab-badge.svg\" alt=\"Open In Colab\"/></a>"
      ]
    },
    {
      "cell_type": "code",
      "execution_count": 191,
      "metadata": {
        "id": "HkVtuUkOVt4k"
      },
      "outputs": [],
      "source": [
        "import os\n",
        "\n",
        "%matplotlib inline\n",
        "import matplotlib.pyplot as plt\n",
        "import numpy as np\n",
        "import pandas as pd\n",
        "import os\n",
        "from glob import glob\n",
        "import seaborn as sns\n",
        "from PIL import Image\n",
        "np.random.seed(11) # It's my lucky number\n",
        "from sklearn.preprocessing import StandardScaler\n",
        "from sklearn.model_selection import train_test_split, KFold, cross_val_score, GridSearchCV\n",
        "from sklearn.metrics import accuracy_score\n",
        "import itertools\n",
        "\n",
        "import keras\n",
        "from keras.utils.np_utils import to_categorical # used for converting labels to one-hot-encoding\n",
        "from keras.models import Sequential, Model\n",
        "from keras.layers import Dense, Dropout, Flatten, Conv2D, MaxPool2D\n",
        "from keras import backend as K\n",
        "#from keras.layers.normalization import BatchNormalization\n",
        "from keras.utils.np_utils import to_categorical # convert to one-hot-encoding\n",
        "from keras.optimizers import Adam, RMSprop\n",
        "from keras.preprocessing.image import ImageDataGenerator\n",
        "from keras.callbacks import ReduceLROnPlateau\n",
        "from keras.wrappers.scikit_learn import KerasClassifier\n",
        "#from keras.applications.resnet50 import ResNet50\n",
        "from keras import backend as K\n",
        "from tensorflow import keras\n",
        "from tensorflow.keras import layers, models"
      ]
    },
    {
      "cell_type": "markdown",
      "metadata": {
        "id": "o0wLjgIMd-K7"
      },
      "source": [
        "#standardizing the images"
      ]
    },
    {
      "cell_type": "code",
      "execution_count": 192,
      "metadata": {
        "id": "ydld5i0Gd8PL"
      },
      "outputs": [],
      "source": [
        "picture_size=48"
      ]
    },
    {
      "cell_type": "code",
      "execution_count": 193,
      "metadata": {
        "id": "GETcsgM1lGRC"
      },
      "outputs": [],
      "source": [
        "import cv2"
      ]
    },
    {
      "cell_type": "code",
      "execution_count": 194,
      "metadata": {
        "id": "i60xlQadet49"
      },
      "outputs": [],
      "source": [
        "def load_and_preprocess_data(data_folder):\n",
        "    data = []\n",
        "    labels = []\n",
        "\n",
        "    for emotion in os.listdir(data_folder):\n",
        "        emotion_folder = os.path.join(data_folder, emotion)\n",
        "        for image_filename in os.listdir(emotion_folder):\n",
        "            image_path = os.path.join(emotion_folder, image_filename)\n",
        "            image = cv2.imread(image_path)\n",
        "            image = cv2.cvtColor(image, cv2.COLOR_BGR2GRAY)  # Convert to grayscale\n",
        "            image = cv2.resize(image, (48, 48))  # Resize to a common size\n",
        "            image = image / 255.0  # Normalize pixel values to [0, 1]\n",
        "            data.append(image)\n",
        "            labels.append(emotion)\n",
        "\n",
        "    return np.array(data), np.array(labels)\n"
      ]
    },
    {
      "cell_type": "code",
      "execution_count": 195,
      "metadata": {
        "id": "kaq5wqq0_sLx"
      },
      "outputs": [],
      "source": [
        "data_folder='/content/drive/MyDrive/DL_practice/Project/FaceEmotionDetection/train'\n",
        "xtrain, ytrain = load_and_preprocess_data(data_folder)"
      ]
    },
    {
      "cell_type": "code",
      "execution_count": 196,
      "metadata": {
        "id": "1E9KZNZ_qQ7n"
      },
      "outputs": [],
      "source": [
        "ytrain_size=ytrain"
      ]
    },
    {
      "cell_type": "code",
      "execution_count": 197,
      "metadata": {
        "colab": {
          "base_uri": "https://localhost:8080/"
        },
        "id": "lYiWD_ytq2FC",
        "outputId": "d3916926-5875-4f06-8e27-679b97416125"
      },
      "outputs": [
        {
          "output_type": "execute_result",
          "data": {
            "text/plain": [
              "7"
            ]
          },
          "metadata": {},
          "execution_count": 197
        }
      ],
      "source": [
        "num_classes=len(set(ytrain_size))\n",
        "num_classes"
      ]
    },
    {
      "cell_type": "code",
      "execution_count": 198,
      "metadata": {
        "id": "WPNWIQ8_jHU3"
      },
      "outputs": [],
      "source": [
        "# Define the path to your test data folder\n",
        "test_data_folder = '/content/drive/MyDrive/DL_practice/Project/FaceEmotionDetection/test'\n",
        "\n",
        "# Load and preprocess the test data\n",
        "xtest,ytest = load_and_preprocess_data(test_data_folder)"
      ]
    },
    {
      "cell_type": "code",
      "execution_count": 199,
      "metadata": {
        "colab": {
          "base_uri": "https://localhost:8080/"
        },
        "id": "72yAJDmlo_T9",
        "outputId": "9aafb297-491e-4618-afae-c09f431e07a5"
      },
      "outputs": [
        {
          "output_type": "execute_result",
          "data": {
            "text/plain": [
              "(51, 48, 48)"
            ]
          },
          "metadata": {},
          "execution_count": 199
        }
      ],
      "source": [
        "xtrain.shape"
      ]
    },
    {
      "cell_type": "code",
      "execution_count": 200,
      "metadata": {
        "colab": {
          "base_uri": "https://localhost:8080/"
        },
        "id": "Udu-JkiCvRxF",
        "outputId": "3f9f47bc-9a7e-4c62-9db5-57e2dd6dc27e"
      },
      "outputs": [
        {
          "output_type": "execute_result",
          "data": {
            "text/plain": [
              "(51,)"
            ]
          },
          "metadata": {},
          "execution_count": 200
        }
      ],
      "source": [
        "ytrain.shape"
      ]
    },
    {
      "cell_type": "code",
      "execution_count": 201,
      "metadata": {
        "colab": {
          "base_uri": "https://localhost:8080/"
        },
        "id": "_3ekmLQKpBSZ",
        "outputId": "8eb5e5d1-08e2-4312-cc4b-4f3a6d208cc3"
      },
      "outputs": [
        {
          "output_type": "execute_result",
          "data": {
            "text/plain": [
              "(45, 48, 48)"
            ]
          },
          "metadata": {},
          "execution_count": 201
        }
      ],
      "source": [
        "xtest.shape"
      ]
    },
    {
      "cell_type": "code",
      "execution_count": 203,
      "metadata": {
        "id": "ZjcJd7IaoNGg"
      },
      "outputs": [],
      "source": [
        "from keras.utils import to_categorical\n",
        "\n",
        "# Initialize the label encoder\n",
        "label_encoder = LabelEncoder()\n",
        "\n",
        "# Encode the string labels into integers for both training and testing\n",
        "ytrain = label_encoder.fit_transform(ytrain)\n",
        "ytest = label_encoder.transform(ytest)\n",
        "\n",
        "# Convert integer-encoded labels into one-hot encoded format\n",
        "#ytrain = to_categorical(ytrain, num_classes)\n",
        "#ytest = to_categorical(ytest, num_classes)"
      ]
    },
    {
      "cell_type": "code",
      "execution_count": 204,
      "metadata": {
        "colab": {
          "base_uri": "https://localhost:8080/"
        },
        "id": "QIJ1ZMEmrTIW",
        "outputId": "3a955a6e-3032-4645-807a-348981bc83da"
      },
      "outputs": [
        {
          "output_type": "execute_result",
          "data": {
            "text/plain": [
              "array([4, 4, 4, 4, 4, 4, 4, 3, 3, 3, 3, 3, 3, 3, 3, 0, 0, 0, 0, 0, 0, 0,\n",
              "       0, 1, 1, 1, 1, 1, 1, 1, 6, 6, 6, 6, 6, 6, 6, 5, 5, 5, 5, 5, 5, 5,\n",
              "       2, 2, 2, 2, 2, 2, 2])"
            ]
          },
          "metadata": {},
          "execution_count": 204
        }
      ],
      "source": [
        "ytrain"
      ]
    },
    {
      "cell_type": "code",
      "execution_count": 206,
      "metadata": {
        "colab": {
          "base_uri": "https://localhost:8080/"
        },
        "id": "1Gp1r46M2qC-",
        "outputId": "20d8f329-82d0-472c-9ace-792b7f652e09"
      },
      "outputs": [
        {
          "output_type": "execute_result",
          "data": {
            "text/plain": [
              "array([1, 1, 1, 1, 1, 1, 3, 3, 3, 3, 3, 3, 3, 5, 5, 5, 5, 5, 5, 2, 2, 2,\n",
              "       2, 2, 2, 6, 6, 6, 6, 6, 6, 6, 0, 0, 0, 0, 0, 0, 0, 4, 4, 4, 4, 4,\n",
              "       4])"
            ]
          },
          "metadata": {},
          "execution_count": 206
        }
      ],
      "source": [
        "ytest"
      ]
    },
    {
      "cell_type": "code",
      "execution_count": 207,
      "metadata": {
        "id": "bmrbzrMCet-H"
      },
      "outputs": [],
      "source": [
        "model = models.Sequential([\n",
        "    layers.Conv2D(32, (3, 3), activation='relu', input_shape=(48, 48, 1)),\n",
        "    layers.MaxPooling2D((2, 2)),\n",
        "    layers.Conv2D(64, (3, 3), activation='relu'),\n",
        "    layers.MaxPooling2D((2, 2)),\n",
        "    layers.Flatten(),\n",
        "    layers.Dense(128, activation='relu'),\n",
        "    layers.Dense(7, activation='softmax')  # 7 emotion classes\n",
        "])"
      ]
    },
    {
      "cell_type": "code",
      "execution_count": 208,
      "metadata": {
        "id": "ryDuHRV3mEA4"
      },
      "outputs": [],
      "source": [
        "model.compile(optimizer='SGD',\n",
        "              loss='sparse_categorical_crossentropy',\n",
        "              metrics=['accuracy'])\n"
      ]
    },
    {
      "cell_type": "code",
      "execution_count": 209,
      "metadata": {
        "colab": {
          "base_uri": "https://localhost:8080/"
        },
        "id": "J2FxXEInsRg_",
        "outputId": "9c285665-f442-407f-99f1-f441cb10f0ff"
      },
      "outputs": [
        {
          "output_type": "execute_result",
          "data": {
            "text/plain": [
              "(51, 48, 48)"
            ]
          },
          "metadata": {},
          "execution_count": 209
        }
      ],
      "source": [
        "xtrain.shape"
      ]
    },
    {
      "cell_type": "code",
      "execution_count": 210,
      "metadata": {
        "colab": {
          "base_uri": "https://localhost:8080/"
        },
        "id": "HYWAiGO3syx3",
        "outputId": "0699a80c-de1e-4f40-ba4e-a3ca5800abc4"
      },
      "outputs": [
        {
          "output_type": "execute_result",
          "data": {
            "text/plain": [
              "array([[[[0.01568627],\n",
              "         [0.        ],\n",
              "         [0.        ],\n",
              "         ...,\n",
              "         [0.10588235],\n",
              "         [0.09411765],\n",
              "         [0.09803922]],\n",
              "\n",
              "        [[0.00392157],\n",
              "         [0.        ],\n",
              "         [0.        ],\n",
              "         ...,\n",
              "         [0.10196078],\n",
              "         [0.09019608],\n",
              "         [0.10196078]],\n",
              "\n",
              "        [[0.        ],\n",
              "         [0.        ],\n",
              "         [0.        ],\n",
              "         ...,\n",
              "         [0.10588235],\n",
              "         [0.10196078],\n",
              "         [0.10196078]],\n",
              "\n",
              "        ...,\n",
              "\n",
              "        [[0.        ],\n",
              "         [0.        ],\n",
              "         [0.        ],\n",
              "         ...,\n",
              "         [0.13333333],\n",
              "         [0.1254902 ],\n",
              "         [0.11764706]],\n",
              "\n",
              "        [[0.        ],\n",
              "         [0.        ],\n",
              "         [0.        ],\n",
              "         ...,\n",
              "         [0.12941176],\n",
              "         [0.12156863],\n",
              "         [0.11764706]],\n",
              "\n",
              "        [[0.        ],\n",
              "         [0.        ],\n",
              "         [0.        ],\n",
              "         ...,\n",
              "         [0.11764706],\n",
              "         [0.11372549],\n",
              "         [0.11764706]]],\n",
              "\n",
              "\n",
              "       [[[0.15294118],\n",
              "         [0.29411765],\n",
              "         [0.30588235],\n",
              "         ...,\n",
              "         [0.01176471],\n",
              "         [0.01960784],\n",
              "         [0.02745098]],\n",
              "\n",
              "        [[0.36470588],\n",
              "         [0.27058824],\n",
              "         [0.3372549 ],\n",
              "         ...,\n",
              "         [0.11764706],\n",
              "         [0.        ],\n",
              "         [0.01960784]],\n",
              "\n",
              "        [[0.43529412],\n",
              "         [0.36078431],\n",
              "         [0.32941176],\n",
              "         ...,\n",
              "         [0.26666667],\n",
              "         [0.14117647],\n",
              "         [0.00392157]],\n",
              "\n",
              "        ...,\n",
              "\n",
              "        [[0.61176471],\n",
              "         [0.64705882],\n",
              "         [0.67058824],\n",
              "         ...,\n",
              "         [0.33333333],\n",
              "         [0.35294118],\n",
              "         [0.40784314]],\n",
              "\n",
              "        [[0.68235294],\n",
              "         [0.72941176],\n",
              "         [0.77254902],\n",
              "         ...,\n",
              "         [0.32941176],\n",
              "         [0.34117647],\n",
              "         [0.36862745]],\n",
              "\n",
              "        [[0.75294118],\n",
              "         [0.81176471],\n",
              "         [0.8627451 ],\n",
              "         ...,\n",
              "         [0.32941176],\n",
              "         [0.3254902 ],\n",
              "         [0.34117647]]],\n",
              "\n",
              "\n",
              "       [[[0.85882353],\n",
              "         [0.83529412],\n",
              "         [0.80784314],\n",
              "         ...,\n",
              "         [0.98823529],\n",
              "         [1.        ],\n",
              "         [1.        ]],\n",
              "\n",
              "        [[0.84313725],\n",
              "         [0.84313725],\n",
              "         [0.80784314],\n",
              "         ...,\n",
              "         [0.98823529],\n",
              "         [1.        ],\n",
              "         [1.        ]],\n",
              "\n",
              "        [[0.85882353],\n",
              "         [0.82745098],\n",
              "         [0.81568627],\n",
              "         ...,\n",
              "         [0.98823529],\n",
              "         [1.        ],\n",
              "         [1.        ]],\n",
              "\n",
              "        ...,\n",
              "\n",
              "        [[0.7372549 ],\n",
              "         [0.77647059],\n",
              "         [0.79215686],\n",
              "         ...,\n",
              "         [0.        ],\n",
              "         [0.        ],\n",
              "         [0.        ]],\n",
              "\n",
              "        [[0.36470588],\n",
              "         [0.42745098],\n",
              "         [0.49803922],\n",
              "         ...,\n",
              "         [0.        ],\n",
              "         [0.        ],\n",
              "         [0.        ]],\n",
              "\n",
              "        [[0.4627451 ],\n",
              "         [0.36470588],\n",
              "         [0.30196078],\n",
              "         ...,\n",
              "         [0.        ],\n",
              "         [0.        ],\n",
              "         [0.        ]]],\n",
              "\n",
              "\n",
              "       ...,\n",
              "\n",
              "\n",
              "       [[[0.68235294],\n",
              "         [0.2       ],\n",
              "         [0.14509804],\n",
              "         ...,\n",
              "         [0.07843137],\n",
              "         [0.53333333],\n",
              "         [1.        ]],\n",
              "\n",
              "        [[0.41960784],\n",
              "         [0.18039216],\n",
              "         [0.16862745],\n",
              "         ...,\n",
              "         [0.05490196],\n",
              "         [0.30980392],\n",
              "         [0.94117647]],\n",
              "\n",
              "        [[0.25882353],\n",
              "         [0.16862745],\n",
              "         [0.14509804],\n",
              "         ...,\n",
              "         [0.08235294],\n",
              "         [0.13333333],\n",
              "         [0.7372549 ]],\n",
              "\n",
              "        ...,\n",
              "\n",
              "        [[0.02352941],\n",
              "         [0.01568627],\n",
              "         [0.00392157],\n",
              "         ...,\n",
              "         [0.03529412],\n",
              "         [0.03529412],\n",
              "         [0.03529412]],\n",
              "\n",
              "        [[0.01568627],\n",
              "         [0.01960784],\n",
              "         [0.00392157],\n",
              "         ...,\n",
              "         [0.03137255],\n",
              "         [0.03921569],\n",
              "         [0.05098039]],\n",
              "\n",
              "        [[0.02352941],\n",
              "         [0.01568627],\n",
              "         [0.        ],\n",
              "         ...,\n",
              "         [0.02745098],\n",
              "         [0.04313725],\n",
              "         [0.0627451 ]]],\n",
              "\n",
              "\n",
              "       [[[0.23137255],\n",
              "         [0.24705882],\n",
              "         [0.2745098 ],\n",
              "         ...,\n",
              "         [0.9372549 ],\n",
              "         [0.9372549 ],\n",
              "         [0.94117647]],\n",
              "\n",
              "        [[0.24705882],\n",
              "         [0.26666667],\n",
              "         [0.2745098 ],\n",
              "         ...,\n",
              "         [0.94509804],\n",
              "         [0.94901961],\n",
              "         [0.94117647]],\n",
              "\n",
              "        [[0.25490196],\n",
              "         [0.26666667],\n",
              "         [0.27843137],\n",
              "         ...,\n",
              "         [0.94901961],\n",
              "         [0.95294118],\n",
              "         [0.94117647]],\n",
              "\n",
              "        ...,\n",
              "\n",
              "        [[0.80784314],\n",
              "         [0.36470588],\n",
              "         [0.29411765],\n",
              "         ...,\n",
              "         [0.85098039],\n",
              "         [0.84705882],\n",
              "         [0.84313725]],\n",
              "\n",
              "        [[0.30980392],\n",
              "         [0.27843137],\n",
              "         [0.31372549],\n",
              "         ...,\n",
              "         [0.84313725],\n",
              "         [0.84705882],\n",
              "         [0.84705882]],\n",
              "\n",
              "        [[0.01568627],\n",
              "         [0.25490196],\n",
              "         [0.30980392],\n",
              "         ...,\n",
              "         [0.84313725],\n",
              "         [0.84313725],\n",
              "         [0.83921569]]],\n",
              "\n",
              "\n",
              "       [[[0.30196078],\n",
              "         [0.20392157],\n",
              "         [0.2627451 ],\n",
              "         ...,\n",
              "         [0.99215686],\n",
              "         [1.        ],\n",
              "         [0.99607843]],\n",
              "\n",
              "        [[0.22745098],\n",
              "         [0.18823529],\n",
              "         [0.29803922],\n",
              "         ...,\n",
              "         [0.98823529],\n",
              "         [0.99215686],\n",
              "         [0.99215686]],\n",
              "\n",
              "        [[0.15686275],\n",
              "         [0.22745098],\n",
              "         [0.2745098 ],\n",
              "         ...,\n",
              "         [0.99215686],\n",
              "         [0.98823529],\n",
              "         [0.99215686]],\n",
              "\n",
              "        ...,\n",
              "\n",
              "        [[0.51764706],\n",
              "         [0.34901961],\n",
              "         [0.10980392],\n",
              "         ...,\n",
              "         [0.8       ],\n",
              "         [0.89411765],\n",
              "         [0.94901961]],\n",
              "\n",
              "        [[0.27058824],\n",
              "         [0.35686275],\n",
              "         [0.12941176],\n",
              "         ...,\n",
              "         [0.98039216],\n",
              "         [0.98823529],\n",
              "         [0.94117647]],\n",
              "\n",
              "        [[0.14117647],\n",
              "         [0.16862745],\n",
              "         [0.22352941],\n",
              "         ...,\n",
              "         [0.97254902],\n",
              "         [0.98039216],\n",
              "         [0.92941176]]]])"
            ]
          },
          "metadata": {},
          "execution_count": 210
        }
      ],
      "source": [
        "reshaped_xtrain = xtrain.reshape((51, 48, 48, 1))\n",
        "reshaped_xtrain"
      ]
    },
    {
      "cell_type": "code",
      "execution_count": 211,
      "metadata": {
        "colab": {
          "base_uri": "https://localhost:8080/"
        },
        "id": "qN3ULZEKsTdX",
        "outputId": "0531696c-35cd-4354-8eb2-e803175dd360"
      },
      "outputs": [
        {
          "output_type": "execute_result",
          "data": {
            "text/plain": [
              "(51,)"
            ]
          },
          "metadata": {},
          "execution_count": 211
        }
      ],
      "source": [
        "ytrain.shape"
      ]
    },
    {
      "cell_type": "code",
      "execution_count": 212,
      "metadata": {
        "colab": {
          "base_uri": "https://localhost:8080/"
        },
        "id": "UsiJIurMlxLQ",
        "outputId": "f8af1c47-3e28-439f-c8fb-d25fb52984dd"
      },
      "outputs": [
        {
          "output_type": "stream",
          "name": "stdout",
          "text": [
            "2/2 [==============================] - 1s 60ms/step - loss: 1.9451 - accuracy: 0.1765\n"
          ]
        },
        {
          "output_type": "execute_result",
          "data": {
            "text/plain": [
              "<keras.callbacks.History at 0x7ff991dc1ea0>"
            ]
          },
          "metadata": {},
          "execution_count": 212
        }
      ],
      "source": [
        "batch_size = 32\n",
        "\n",
        "# Train the model with batch processing\n",
        "model.fit(reshaped_xtrain, ytrain, epochs=1)"
      ]
    },
    {
      "cell_type": "markdown",
      "metadata": {
        "id": "uk0gcFUM3K75"
      },
      "source": [
        "The code you've shared seems to be mostly correct for loading test data from the specified folder and then using your model to make predictions on that test data. However, there are a couple of important points to consider:\n",
        "\n",
        "Data Preprocessing: Before making predictions, you should preprocess the test data in the same way you preprocessed the training data. This includes resizing the images, converting them to grayscale, normalizing pixel values, and ensuring that they have the same shape as the input data that your model expects.\n",
        "\n",
        "Model Input Shape: Ensure that the test data you load has the same shape as what your model expects as input. Based on your model architecture mentioned earlier, it appears to expect images of size (48, 48, 1), which are grayscale images of 48x48 pixels."
      ]
    },
    {
      "cell_type": "code",
      "execution_count": 213,
      "metadata": {
        "colab": {
          "base_uri": "https://localhost:8080/"
        },
        "id": "EHYT0ASKs-p9",
        "outputId": "c0470d4d-0ba6-4de2-85e8-df6c21caa595"
      },
      "outputs": [
        {
          "output_type": "stream",
          "name": "stdout",
          "text": [
            "2/2 [==============================] - 0s 24ms/step\n"
          ]
        },
        {
          "output_type": "execute_result",
          "data": {
            "text/plain": [
              "array([[0.14912494, 0.14530914, 0.14657196, 0.15048496, 0.13189963,\n",
              "        0.12849556, 0.14811398],\n",
              "       [0.1559071 , 0.14324355, 0.14167073, 0.14746901, 0.13568181,\n",
              "        0.12872869, 0.14729911],\n",
              "       [0.15308712, 0.14686008, 0.140874  , 0.1449103 , 0.13674296,\n",
              "        0.13236283, 0.14516276],\n",
              "       [0.14712402, 0.14626546, 0.1443683 , 0.14691578, 0.14125083,\n",
              "        0.13136223, 0.14271335],\n",
              "       [0.14646253, 0.14469606, 0.14284712, 0.14850251, 0.13494144,\n",
              "        0.13139836, 0.15115193],\n",
              "       [0.15524916, 0.14218695, 0.14393033, 0.14915976, 0.13467292,\n",
              "        0.12486364, 0.14993723],\n",
              "       [0.15126994, 0.14516008, 0.1462022 , 0.14844853, 0.13168445,\n",
              "        0.12668258, 0.15055212],\n",
              "       [0.15112203, 0.14743355, 0.14180318, 0.15091302, 0.13614574,\n",
              "        0.12599577, 0.14658667],\n",
              "       [0.15491106, 0.15045506, 0.14436847, 0.14585719, 0.13312343,\n",
              "        0.12114652, 0.15013838],\n",
              "       [0.14785999, 0.14339446, 0.14372838, 0.1514152 , 0.13641125,\n",
              "        0.13188551, 0.14530522],\n",
              "       [0.15098764, 0.14682733, 0.14345944, 0.14831959, 0.13437228,\n",
              "        0.12723967, 0.14879408],\n",
              "       [0.14732514, 0.1470697 , 0.14311679, 0.14315476, 0.13978578,\n",
              "        0.1341371 , 0.1454109 ],\n",
              "       [0.15064983, 0.14356153, 0.14463587, 0.14959455, 0.13574444,\n",
              "        0.12978572, 0.14602795],\n",
              "       [0.15458164, 0.14465621, 0.14133283, 0.14622316, 0.13470988,\n",
              "        0.12985843, 0.14863785],\n",
              "       [0.15319249, 0.14481167, 0.14450614, 0.1481685 , 0.13422552,\n",
              "        0.1273605 , 0.14773521],\n",
              "       [0.14956012, 0.14656787, 0.14430457, 0.14625557, 0.13387014,\n",
              "        0.12839462, 0.15104713],\n",
              "       [0.15052587, 0.14564109, 0.14135028, 0.14983532, 0.13525315,\n",
              "        0.12869284, 0.1487015 ],\n",
              "       [0.1439736 , 0.14882934, 0.14095485, 0.14733624, 0.13326043,\n",
              "        0.13177954, 0.15386604],\n",
              "       [0.15447347, 0.14491463, 0.14194691, 0.14195633, 0.13780567,\n",
              "        0.13670692, 0.14219609],\n",
              "       [0.15320463, 0.14291465, 0.14336233, 0.1458749 , 0.13734056,\n",
              "        0.12948315, 0.14781979],\n",
              "       [0.15107188, 0.14310664, 0.14522268, 0.14595611, 0.13808785,\n",
              "        0.12921925, 0.14733545],\n",
              "       [0.15451151, 0.1465433 , 0.13903101, 0.14787349, 0.1386699 ,\n",
              "        0.12526265, 0.14810817],\n",
              "       [0.15296283, 0.14457555, 0.14119714, 0.14519739, 0.1371631 ,\n",
              "        0.12821773, 0.15068625],\n",
              "       [0.15658666, 0.1415199 , 0.14323376, 0.14933562, 0.13609736,\n",
              "        0.13227013, 0.14095645],\n",
              "       [0.14970236, 0.14367741, 0.14319041, 0.14641376, 0.13820872,\n",
              "        0.13400169, 0.14480573],\n",
              "       [0.14927109, 0.14744823, 0.1446059 , 0.15017928, 0.132794  ,\n",
              "        0.12430502, 0.15139653],\n",
              "       [0.15166613, 0.14487922, 0.14043093, 0.1529949 , 0.1337906 ,\n",
              "        0.12550305, 0.15073511],\n",
              "       [0.15526038, 0.14387164, 0.1416634 , 0.15362705, 0.1283127 ,\n",
              "        0.12340642, 0.15385841],\n",
              "       [0.15239142, 0.14368322, 0.14654726, 0.147275  , 0.13481142,\n",
              "        0.13015383, 0.14513786],\n",
              "       [0.14738354, 0.14497684, 0.14459988, 0.14985226, 0.13478346,\n",
              "        0.12823342, 0.15017055],\n",
              "       [0.14729334, 0.1441612 , 0.14095023, 0.15045218, 0.13533016,\n",
              "        0.12699725, 0.1548156 ],\n",
              "       [0.14994739, 0.14438201, 0.13953817, 0.1537155 , 0.13292958,\n",
              "        0.12453935, 0.15494798],\n",
              "       [0.15276453, 0.14551964, 0.14365909, 0.14640336, 0.13603191,\n",
              "        0.13098565, 0.14463593],\n",
              "       [0.15363109, 0.14730778, 0.13764994, 0.15205082, 0.12802036,\n",
              "        0.1324256 , 0.14891429],\n",
              "       [0.14848012, 0.1475643 , 0.13931099, 0.15387869, 0.13305978,\n",
              "        0.1263483 , 0.15135783],\n",
              "       [0.1451978 , 0.14715074, 0.13954175, 0.15129189, 0.13511175,\n",
              "        0.12847646, 0.15322967],\n",
              "       [0.14989421, 0.14328225, 0.14603356, 0.14940989, 0.1335727 ,\n",
              "        0.12429006, 0.15351737],\n",
              "       [0.15110916, 0.14685637, 0.14110628, 0.14991058, 0.13973062,\n",
              "        0.1302524 , 0.14103456],\n",
              "       [0.1569579 , 0.14130832, 0.13966139, 0.14656025, 0.1378645 ,\n",
              "        0.13089585, 0.14675167],\n",
              "       [0.14866385, 0.14439641, 0.14107732, 0.15149608, 0.13745981,\n",
              "        0.12869513, 0.14821129],\n",
              "       [0.15276876, 0.14496665, 0.1455208 , 0.14813524, 0.13272294,\n",
              "        0.12749149, 0.14839411],\n",
              "       [0.15355429, 0.14088288, 0.14037487, 0.14525524, 0.14021888,\n",
              "        0.13517359, 0.14454028],\n",
              "       [0.1453984 , 0.1434033 , 0.14289138, 0.14736378, 0.14010395,\n",
              "        0.13604037, 0.14479876],\n",
              "       [0.14919941, 0.14538537, 0.1436402 , 0.15157335, 0.13631542,\n",
              "        0.12621163, 0.14767458],\n",
              "       [0.14425802, 0.14966668, 0.13862783, 0.14859395, 0.13544805,\n",
              "        0.12771408, 0.15569143]], dtype=float32)"
            ]
          },
          "metadata": {},
          "execution_count": 213
        }
      ],
      "source": [
        "# Ensure the input shape matches what your model expects\n",
        "# (Assuming model is already defined and compiled)\n",
        "ypred = model.predict(xtest)\n",
        "ypred"
      ]
    },
    {
      "cell_type": "code",
      "execution_count": 216,
      "metadata": {
        "colab": {
          "base_uri": "https://localhost:8080/"
        },
        "id": "kcr6EnbXeuDT",
        "outputId": "01849072-62df-415d-d8d0-6cb76a2de9fa"
      },
      "outputs": [
        {
          "output_type": "stream",
          "name": "stdout",
          "text": [
            "Classification Report: \n",
            "               precision    recall  f1-score   support\n",
            "\n",
            "           0       0.14      0.57      0.23         7\n",
            "           1       0.00      0.00      0.00         6\n",
            "           2       0.00      0.00      0.00         6\n",
            "           3       0.14      0.14      0.14         7\n",
            "           4       0.00      0.00      0.00         6\n",
            "           5       0.00      0.00      0.00         6\n",
            "           6       0.40      0.57      0.47         7\n",
            "\n",
            "    accuracy                           0.20        45\n",
            "   macro avg       0.10      0.18      0.12        45\n",
            "weighted avg       0.11      0.20      0.13        45\n",
            "\n"
          ]
        },
        {
          "output_type": "stream",
          "name": "stderr",
          "text": [
            "/usr/local/lib/python3.10/dist-packages/sklearn/metrics/_classification.py:1344: UndefinedMetricWarning: Precision and F-score are ill-defined and being set to 0.0 in labels with no predicted samples. Use `zero_division` parameter to control this behavior.\n",
            "  _warn_prf(average, modifier, msg_start, len(result))\n",
            "/usr/local/lib/python3.10/dist-packages/sklearn/metrics/_classification.py:1344: UndefinedMetricWarning: Precision and F-score are ill-defined and being set to 0.0 in labels with no predicted samples. Use `zero_division` parameter to control this behavior.\n",
            "  _warn_prf(average, modifier, msg_start, len(result))\n",
            "/usr/local/lib/python3.10/dist-packages/sklearn/metrics/_classification.py:1344: UndefinedMetricWarning: Precision and F-score are ill-defined and being set to 0.0 in labels with no predicted samples. Use `zero_division` parameter to control this behavior.\n",
            "  _warn_prf(average, modifier, msg_start, len(result))\n"
          ]
        }
      ],
      "source": [
        "from sklearn.metrics import confusion_matrix , classification_report\n",
        "y_pred_classes = [np.argmax(element) for element in ypred]\n",
        "y_pred_classes[:5]\n",
        "print(\"Classification Report: \\n\", classification_report(ytest, y_pred_classes))"
      ]
    },
    {
      "cell_type": "code",
      "execution_count": 215,
      "metadata": {
        "colab": {
          "base_uri": "https://localhost:8080/"
        },
        "id": "X4zfniOGZFUk",
        "outputId": "4659a765-6803-4bd7-94e2-ccf84f6ccd77"
      },
      "outputs": [
        {
          "output_type": "execute_result",
          "data": {
            "text/plain": [
              "array([1, 1, 1, 1, 1])"
            ]
          },
          "metadata": {},
          "execution_count": 215
        }
      ],
      "source": [
        "ytest[:5]"
      ]
    },
    {
      "cell_type": "code",
      "execution_count": null,
      "metadata": {
        "id": "AF8-vf2UeuFZ"
      },
      "outputs": [],
      "source": []
    },
    {
      "cell_type": "code",
      "execution_count": null,
      "metadata": {
        "id": "g3qxJXDBeuKY"
      },
      "outputs": [],
      "source": []
    },
    {
      "cell_type": "code",
      "execution_count": null,
      "metadata": {
        "id": "h47WEdmPeuNV"
      },
      "outputs": [],
      "source": []
    },
    {
      "cell_type": "code",
      "execution_count": null,
      "metadata": {
        "id": "i1vFU0zreuQi"
      },
      "outputs": [],
      "source": []
    },
    {
      "cell_type": "code",
      "execution_count": null,
      "metadata": {
        "id": "cDaTt9ZgeuSU"
      },
      "outputs": [],
      "source": []
    },
    {
      "cell_type": "code",
      "execution_count": null,
      "metadata": {
        "id": "Lcek2orZeuTy"
      },
      "outputs": [],
      "source": []
    }
  ],
  "metadata": {
    "colab": {
      "provenance": [],
      "mount_file_id": "1XsNAA_HNIA-SsoIcePhgSFvV5kNY5533",
      "authorship_tag": "ABX9TyMimNjaKdOFzA0a8fBnSuh9",
      "include_colab_link": true
    },
    "kernelspec": {
      "display_name": "Python 3",
      "name": "python3"
    },
    "language_info": {
      "name": "python"
    }
  },
  "nbformat": 4,
  "nbformat_minor": 0
}