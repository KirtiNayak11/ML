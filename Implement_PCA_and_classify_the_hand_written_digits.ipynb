{
  "nbformat": 4,
  "nbformat_minor": 0,
  "metadata": {
    "colab": {
      "provenance": [],
      "authorship_tag": "ABX9TyNwmW2fMLnrhvCqqEEuewnM",
      "include_colab_link": true
    },
    "kernelspec": {
      "name": "python3",
      "display_name": "Python 3"
    },
    "language_info": {
      "name": "python"
    }
  },
  "cells": [
    {
      "cell_type": "markdown",
      "metadata": {
        "id": "view-in-github",
        "colab_type": "text"
      },
      "source": [
        "<a href=\"https://colab.research.google.com/github/KirtiNayak11/ML/blob/main/Implement_PCA_and_classify_the_hand_written_digits.ipynb\" target=\"_parent\"><img src=\"https://colab.research.google.com/assets/colab-badge.svg\" alt=\"Open In Colab\"/></a>"
      ]
    },
    {
      "cell_type": "code",
      "execution_count": 3,
      "metadata": {
        "id": "qK-KPfV-2d6P"
      },
      "outputs": [],
      "source": [
        "from sklearn.datasets import load_digits\n",
        "from sklearn.model_selection  import train_test_split\n",
        "from sklearn.decomposition import PCA\n",
        "from sklearn.svm import SVC "
      ]
    },
    {
      "cell_type": "code",
      "source": [
        "digits=load_digits()"
      ],
      "metadata": {
        "id": "7bRCzIYC8MyZ"
      },
      "execution_count": 4,
      "outputs": []
    },
    {
      "cell_type": "code",
      "source": [
        "x=digits.data\n",
        "y=digits.target"
      ],
      "metadata": {
        "id": "dod6RNhu8E2E"
      },
      "execution_count": 5,
      "outputs": []
    },
    {
      "cell_type": "code",
      "source": [
        "xtrain,xtest,ytrain,ytest=train_test_split(x,y,test_size=0.8,random_state=0)"
      ],
      "metadata": {
        "id": "uA3c09Js8oWo"
      },
      "execution_count": 7,
      "outputs": []
    },
    {
      "cell_type": "code",
      "source": [
        "n_components=30\n",
        "pca=PCA(n_components=n_components)\n",
        "xtrain=pca.fit_transform(xtrain)\n",
        "xtest=pca.fit_transform(xtest)"
      ],
      "metadata": {
        "id": "KeIrSLzW81IQ"
      },
      "execution_count": 8,
      "outputs": []
    },
    {
      "cell_type": "code",
      "source": [
        "model=SVC()\n",
        "model.fit(xtrain,ytrain)\n",
        "ypred=model.predict(xtest)\n",
        "ypred"
      ],
      "metadata": {
        "colab": {
          "base_uri": "https://localhost:8080/"
        },
        "id": "6bX9BPij9Ztj",
        "outputId": "8a66b73e-52ad-4b76-ec56-b619c948100b"
      },
      "execution_count": 9,
      "outputs": [
        {
          "output_type": "execute_result",
          "data": {
            "text/plain": [
              "array([8, 8, 1, ..., 4, 9, 7])"
            ]
          },
          "metadata": {},
          "execution_count": 9
        }
      ]
    }
  ]
}