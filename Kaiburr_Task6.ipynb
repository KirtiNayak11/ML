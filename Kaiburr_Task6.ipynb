{
  "nbformat": 4,
  "nbformat_minor": 0,
  "metadata": {
    "colab": {
      "provenance": [],
      "mount_file_id": "1Ne0n0h6WnA_j21pbC39m0y_Dh7Ao1LDz",
      "authorship_tag": "ABX9TyP/Eyxw2Sl/NZV5gJbrFMdL",
      "include_colab_link": true
    },
    "kernelspec": {
      "name": "python3",
      "display_name": "Python 3"
    },
    "language_info": {
      "name": "python"
    }
  },
  "cells": [
    {
      "cell_type": "markdown",
      "metadata": {
        "id": "view-in-github",
        "colab_type": "text"
      },
      "source": [
        "<a href=\"https://colab.research.google.com/github/KirtiNayak11/ML/blob/main/Kaiburr_Task6.ipynb\" target=\"_parent\"><img src=\"https://colab.research.google.com/assets/colab-badge.svg\" alt=\"Open In Colab\"/></a>"
      ]
    },
    {
      "cell_type": "markdown",
      "source": [
        "#Data Preparation"
      ],
      "metadata": {
        "id": "aINJYVPOsemd"
      }
    },
    {
      "cell_type": "code",
      "execution_count": null,
      "metadata": {
        "colab": {
          "base_uri": "https://localhost:8080/"
        },
        "id": "vfJdnNvxqqXw",
        "outputId": "240c3aba-a036-489b-c595-53f7935d471b"
      },
      "outputs": [
        {
          "output_type": "stream",
          "name": "stderr",
          "text": [
            "<ipython-input-2-1b29349de1f9>:3: DtypeWarning: Columns (16) have mixed types. Specify dtype option on import or set low_memory=False.\n",
            "  df = pd.read_csv(\"/content/drive/MyDrive/Kaiburr/complaints.csv\")\n"
          ]
        }
      ],
      "source": [
        "import pandas as pd\n",
        "\n",
        "df = pd.read_csv(\"/content/drive/MyDrive/Kaiburr/complaints.csv\")"
      ]
    },
    {
      "cell_type": "code",
      "source": [
        "df.shape"
      ],
      "metadata": {
        "id": "X3eNX4MeD0Ho",
        "colab": {
          "base_uri": "https://localhost:8080/"
        },
        "outputId": "89358163-3571-42fc-f05f-7490c88f224c"
      },
      "execution_count": null,
      "outputs": [
        {
          "output_type": "execute_result",
          "data": {
            "text/plain": [
              "(4082544, 18)"
            ]
          },
          "metadata": {},
          "execution_count": 3
        }
      ]
    },
    {
      "cell_type": "code",
      "source": [
        "df"
      ],
      "metadata": {
        "colab": {
          "base_uri": "https://localhost:8080/",
          "height": 1000
        },
        "id": "Qy43PsKD06UH",
        "outputId": "285c5470-e9b4-4bb3-87f1-6ff3cb7d0987"
      },
      "execution_count": null,
      "outputs": [
        {
          "output_type": "execute_result",
          "data": {
            "text/plain": [
              "        Date received                                            Product  \\\n",
              "0          2023-08-25  Credit reporting or other personal consumer re...   \n",
              "1          2023-08-25  Credit reporting or other personal consumer re...   \n",
              "2          2023-08-25  Credit reporting or other personal consumer re...   \n",
              "3          2023-08-24  Credit reporting, credit repair services, or o...   \n",
              "4          2023-08-25  Credit reporting or other personal consumer re...   \n",
              "...               ...                                                ...   \n",
              "4082539    2015-02-21                                        Credit card   \n",
              "4082540    2015-07-19                                   Credit reporting   \n",
              "4082541    2022-06-16                                           Mortgage   \n",
              "4082542    2022-04-26                                    Debt collection   \n",
              "4082543    2022-08-15                        Checking or savings account   \n",
              "\n",
              "                        Sub-product  \\\n",
              "0                  Credit reporting   \n",
              "1                  Credit reporting   \n",
              "2                  Credit reporting   \n",
              "3                  Credit reporting   \n",
              "4                  Credit reporting   \n",
              "...                             ...   \n",
              "4082539                         NaN   \n",
              "4082540                         NaN   \n",
              "4082541  Conventional home mortgage   \n",
              "4082542               I do not know   \n",
              "4082543            Checking account   \n",
              "\n",
              "                                                     Issue  \\\n",
              "0                     Incorrect information on your report   \n",
              "1                              Improper use of your report   \n",
              "2                     Incorrect information on your report   \n",
              "3        Problem with a credit reporting company's inve...   \n",
              "4                              Improper use of your report   \n",
              "...                                                    ...   \n",
              "4082539                                    Sale of account   \n",
              "4082540             Incorrect information on credit report   \n",
              "4082541  Applying for a mortgage or refinancing an exis...   \n",
              "4082542                  Attempts to collect debt not owed   \n",
              "4082543                                Managing an account   \n",
              "\n",
              "                                                 Sub-issue  \\\n",
              "0                           Personal information incorrect   \n",
              "1        Credit inquiries on your report that you don't...   \n",
              "2                      Information belongs to someone else   \n",
              "3        Was not notified of investigation status or re...   \n",
              "4            Reporting company used your report improperly   \n",
              "...                                                    ...   \n",
              "4082539                                                NaN   \n",
              "4082540                                     Account status   \n",
              "4082541                                                NaN   \n",
              "4082542                                  Debt is not yours   \n",
              "4082543                           Deposits and withdrawals   \n",
              "\n",
              "        Consumer complaint narrative Company public response  \\\n",
              "0                                NaN                     NaN   \n",
              "1                                NaN                     NaN   \n",
              "2                                NaN                     NaN   \n",
              "3                                NaN                     NaN   \n",
              "4                                NaN                     NaN   \n",
              "...                              ...                     ...   \n",
              "4082539                          NaN                     NaN   \n",
              "4082540                          NaN                     NaN   \n",
              "4082541                          NaN                     NaN   \n",
              "4082542                          NaN                     NaN   \n",
              "4082543                          NaN                     NaN   \n",
              "\n",
              "                                     Company State ZIP code            Tags  \\\n",
              "0                              EQUIFAX, INC.    TX    77028             NaN   \n",
              "1                              EQUIFAX, INC.    NY    12110             NaN   \n",
              "2                              EQUIFAX, INC.    FL    32808             NaN   \n",
              "3        Experian Information Solutions Inc.    NJ    07024             NaN   \n",
              "4               SANTANDER HOLDINGS USA, INC.    FL    33972             NaN   \n",
              "...                                      ...   ...      ...             ...   \n",
              "4082539                 JPMORGAN CHASE & CO.    AL    36695             NaN   \n",
              "4082540                        EQUIFAX, INC.    IL    60614             NaN   \n",
              "4082541                Mr. Cooper Group Inc.    IA    52205             NaN   \n",
              "4082542                    V and H Portfolio    SC    29624             NaN   \n",
              "4082543                 JPMORGAN CHASE & CO.    PA    17972  Older American   \n",
              "\n",
              "        Consumer consent provided? Submitted via Date sent to company  \\\n",
              "0                              NaN           Web           2023-08-26   \n",
              "1                              NaN           Web           2023-08-25   \n",
              "2                              NaN           Web           2023-08-25   \n",
              "3                            Other           Web           2023-08-24   \n",
              "4                              NaN           Web           2023-08-25   \n",
              "...                            ...           ...                  ...   \n",
              "4082539                        NaN           Web           2015-02-21   \n",
              "4082540       Consent not provided           Web           2015-07-19   \n",
              "4082541                        NaN      Referral           2022-06-17   \n",
              "4082542       Consent not provided           Web           2022-04-26   \n",
              "4082543                        NaN         Phone           2022-08-15   \n",
              "\n",
              "            Company response to consumer Timely response? Consumer disputed?  \\\n",
              "0        Closed with non-monetary relief              Yes                NaN   \n",
              "1                Closed with explanation              Yes                NaN   \n",
              "2        Closed with non-monetary relief              Yes                NaN   \n",
              "3                            In progress              Yes                NaN   \n",
              "4                Closed with explanation              Yes                NaN   \n",
              "...                                  ...              ...                ...   \n",
              "4082539          Closed with explanation              Yes                Yes   \n",
              "4082540          Closed with explanation              Yes                 No   \n",
              "4082541          Closed with explanation              Yes                NaN   \n",
              "4082542  Closed with non-monetary relief              Yes                NaN   \n",
              "4082543          Closed with explanation              Yes                NaN   \n",
              "\n",
              "         Complaint ID  \n",
              "0             7563315  \n",
              "1             7563316  \n",
              "2             7563317  \n",
              "3             7452639  \n",
              "4             7512160  \n",
              "...               ...  \n",
              "4082539       1250605  \n",
              "4082540       1473577  \n",
              "4082541       5683655  \n",
              "4082542       5495755  \n",
              "4082543       5879503  \n",
              "\n",
              "[4082544 rows x 18 columns]"
            ],
            "text/html": [
              "\n",
              "  <div id=\"df-cb08e82b-c724-4fbc-8c8e-936f85ce4d9e\" class=\"colab-df-container\">\n",
              "    <div>\n",
              "<style scoped>\n",
              "    .dataframe tbody tr th:only-of-type {\n",
              "        vertical-align: middle;\n",
              "    }\n",
              "\n",
              "    .dataframe tbody tr th {\n",
              "        vertical-align: top;\n",
              "    }\n",
              "\n",
              "    .dataframe thead th {\n",
              "        text-align: right;\n",
              "    }\n",
              "</style>\n",
              "<table border=\"1\" class=\"dataframe\">\n",
              "  <thead>\n",
              "    <tr style=\"text-align: right;\">\n",
              "      <th></th>\n",
              "      <th>Date received</th>\n",
              "      <th>Product</th>\n",
              "      <th>Sub-product</th>\n",
              "      <th>Issue</th>\n",
              "      <th>Sub-issue</th>\n",
              "      <th>Consumer complaint narrative</th>\n",
              "      <th>Company public response</th>\n",
              "      <th>Company</th>\n",
              "      <th>State</th>\n",
              "      <th>ZIP code</th>\n",
              "      <th>Tags</th>\n",
              "      <th>Consumer consent provided?</th>\n",
              "      <th>Submitted via</th>\n",
              "      <th>Date sent to company</th>\n",
              "      <th>Company response to consumer</th>\n",
              "      <th>Timely response?</th>\n",
              "      <th>Consumer disputed?</th>\n",
              "      <th>Complaint ID</th>\n",
              "    </tr>\n",
              "  </thead>\n",
              "  <tbody>\n",
              "    <tr>\n",
              "      <th>0</th>\n",
              "      <td>2023-08-25</td>\n",
              "      <td>Credit reporting or other personal consumer re...</td>\n",
              "      <td>Credit reporting</td>\n",
              "      <td>Incorrect information on your report</td>\n",
              "      <td>Personal information incorrect</td>\n",
              "      <td>NaN</td>\n",
              "      <td>NaN</td>\n",
              "      <td>EQUIFAX, INC.</td>\n",
              "      <td>TX</td>\n",
              "      <td>77028</td>\n",
              "      <td>NaN</td>\n",
              "      <td>NaN</td>\n",
              "      <td>Web</td>\n",
              "      <td>2023-08-26</td>\n",
              "      <td>Closed with non-monetary relief</td>\n",
              "      <td>Yes</td>\n",
              "      <td>NaN</td>\n",
              "      <td>7563315</td>\n",
              "    </tr>\n",
              "    <tr>\n",
              "      <th>1</th>\n",
              "      <td>2023-08-25</td>\n",
              "      <td>Credit reporting or other personal consumer re...</td>\n",
              "      <td>Credit reporting</td>\n",
              "      <td>Improper use of your report</td>\n",
              "      <td>Credit inquiries on your report that you don't...</td>\n",
              "      <td>NaN</td>\n",
              "      <td>NaN</td>\n",
              "      <td>EQUIFAX, INC.</td>\n",
              "      <td>NY</td>\n",
              "      <td>12110</td>\n",
              "      <td>NaN</td>\n",
              "      <td>NaN</td>\n",
              "      <td>Web</td>\n",
              "      <td>2023-08-25</td>\n",
              "      <td>Closed with explanation</td>\n",
              "      <td>Yes</td>\n",
              "      <td>NaN</td>\n",
              "      <td>7563316</td>\n",
              "    </tr>\n",
              "    <tr>\n",
              "      <th>2</th>\n",
              "      <td>2023-08-25</td>\n",
              "      <td>Credit reporting or other personal consumer re...</td>\n",
              "      <td>Credit reporting</td>\n",
              "      <td>Incorrect information on your report</td>\n",
              "      <td>Information belongs to someone else</td>\n",
              "      <td>NaN</td>\n",
              "      <td>NaN</td>\n",
              "      <td>EQUIFAX, INC.</td>\n",
              "      <td>FL</td>\n",
              "      <td>32808</td>\n",
              "      <td>NaN</td>\n",
              "      <td>NaN</td>\n",
              "      <td>Web</td>\n",
              "      <td>2023-08-25</td>\n",
              "      <td>Closed with non-monetary relief</td>\n",
              "      <td>Yes</td>\n",
              "      <td>NaN</td>\n",
              "      <td>7563317</td>\n",
              "    </tr>\n",
              "    <tr>\n",
              "      <th>3</th>\n",
              "      <td>2023-08-24</td>\n",
              "      <td>Credit reporting, credit repair services, or o...</td>\n",
              "      <td>Credit reporting</td>\n",
              "      <td>Problem with a credit reporting company's inve...</td>\n",
              "      <td>Was not notified of investigation status or re...</td>\n",
              "      <td>NaN</td>\n",
              "      <td>NaN</td>\n",
              "      <td>Experian Information Solutions Inc.</td>\n",
              "      <td>NJ</td>\n",
              "      <td>07024</td>\n",
              "      <td>NaN</td>\n",
              "      <td>Other</td>\n",
              "      <td>Web</td>\n",
              "      <td>2023-08-24</td>\n",
              "      <td>In progress</td>\n",
              "      <td>Yes</td>\n",
              "      <td>NaN</td>\n",
              "      <td>7452639</td>\n",
              "    </tr>\n",
              "    <tr>\n",
              "      <th>4</th>\n",
              "      <td>2023-08-25</td>\n",
              "      <td>Credit reporting or other personal consumer re...</td>\n",
              "      <td>Credit reporting</td>\n",
              "      <td>Improper use of your report</td>\n",
              "      <td>Reporting company used your report improperly</td>\n",
              "      <td>NaN</td>\n",
              "      <td>NaN</td>\n",
              "      <td>SANTANDER HOLDINGS USA, INC.</td>\n",
              "      <td>FL</td>\n",
              "      <td>33972</td>\n",
              "      <td>NaN</td>\n",
              "      <td>NaN</td>\n",
              "      <td>Web</td>\n",
              "      <td>2023-08-25</td>\n",
              "      <td>Closed with explanation</td>\n",
              "      <td>Yes</td>\n",
              "      <td>NaN</td>\n",
              "      <td>7512160</td>\n",
              "    </tr>\n",
              "    <tr>\n",
              "      <th>...</th>\n",
              "      <td>...</td>\n",
              "      <td>...</td>\n",
              "      <td>...</td>\n",
              "      <td>...</td>\n",
              "      <td>...</td>\n",
              "      <td>...</td>\n",
              "      <td>...</td>\n",
              "      <td>...</td>\n",
              "      <td>...</td>\n",
              "      <td>...</td>\n",
              "      <td>...</td>\n",
              "      <td>...</td>\n",
              "      <td>...</td>\n",
              "      <td>...</td>\n",
              "      <td>...</td>\n",
              "      <td>...</td>\n",
              "      <td>...</td>\n",
              "      <td>...</td>\n",
              "    </tr>\n",
              "    <tr>\n",
              "      <th>4082539</th>\n",
              "      <td>2015-02-21</td>\n",
              "      <td>Credit card</td>\n",
              "      <td>NaN</td>\n",
              "      <td>Sale of account</td>\n",
              "      <td>NaN</td>\n",
              "      <td>NaN</td>\n",
              "      <td>NaN</td>\n",
              "      <td>JPMORGAN CHASE &amp; CO.</td>\n",
              "      <td>AL</td>\n",
              "      <td>36695</td>\n",
              "      <td>NaN</td>\n",
              "      <td>NaN</td>\n",
              "      <td>Web</td>\n",
              "      <td>2015-02-21</td>\n",
              "      <td>Closed with explanation</td>\n",
              "      <td>Yes</td>\n",
              "      <td>Yes</td>\n",
              "      <td>1250605</td>\n",
              "    </tr>\n",
              "    <tr>\n",
              "      <th>4082540</th>\n",
              "      <td>2015-07-19</td>\n",
              "      <td>Credit reporting</td>\n",
              "      <td>NaN</td>\n",
              "      <td>Incorrect information on credit report</td>\n",
              "      <td>Account status</td>\n",
              "      <td>NaN</td>\n",
              "      <td>NaN</td>\n",
              "      <td>EQUIFAX, INC.</td>\n",
              "      <td>IL</td>\n",
              "      <td>60614</td>\n",
              "      <td>NaN</td>\n",
              "      <td>Consent not provided</td>\n",
              "      <td>Web</td>\n",
              "      <td>2015-07-19</td>\n",
              "      <td>Closed with explanation</td>\n",
              "      <td>Yes</td>\n",
              "      <td>No</td>\n",
              "      <td>1473577</td>\n",
              "    </tr>\n",
              "    <tr>\n",
              "      <th>4082541</th>\n",
              "      <td>2022-06-16</td>\n",
              "      <td>Mortgage</td>\n",
              "      <td>Conventional home mortgage</td>\n",
              "      <td>Applying for a mortgage or refinancing an exis...</td>\n",
              "      <td>NaN</td>\n",
              "      <td>NaN</td>\n",
              "      <td>NaN</td>\n",
              "      <td>Mr. Cooper Group Inc.</td>\n",
              "      <td>IA</td>\n",
              "      <td>52205</td>\n",
              "      <td>NaN</td>\n",
              "      <td>NaN</td>\n",
              "      <td>Referral</td>\n",
              "      <td>2022-06-17</td>\n",
              "      <td>Closed with explanation</td>\n",
              "      <td>Yes</td>\n",
              "      <td>NaN</td>\n",
              "      <td>5683655</td>\n",
              "    </tr>\n",
              "    <tr>\n",
              "      <th>4082542</th>\n",
              "      <td>2022-04-26</td>\n",
              "      <td>Debt collection</td>\n",
              "      <td>I do not know</td>\n",
              "      <td>Attempts to collect debt not owed</td>\n",
              "      <td>Debt is not yours</td>\n",
              "      <td>NaN</td>\n",
              "      <td>NaN</td>\n",
              "      <td>V and H Portfolio</td>\n",
              "      <td>SC</td>\n",
              "      <td>29624</td>\n",
              "      <td>NaN</td>\n",
              "      <td>Consent not provided</td>\n",
              "      <td>Web</td>\n",
              "      <td>2022-04-26</td>\n",
              "      <td>Closed with non-monetary relief</td>\n",
              "      <td>Yes</td>\n",
              "      <td>NaN</td>\n",
              "      <td>5495755</td>\n",
              "    </tr>\n",
              "    <tr>\n",
              "      <th>4082543</th>\n",
              "      <td>2022-08-15</td>\n",
              "      <td>Checking or savings account</td>\n",
              "      <td>Checking account</td>\n",
              "      <td>Managing an account</td>\n",
              "      <td>Deposits and withdrawals</td>\n",
              "      <td>NaN</td>\n",
              "      <td>NaN</td>\n",
              "      <td>JPMORGAN CHASE &amp; CO.</td>\n",
              "      <td>PA</td>\n",
              "      <td>17972</td>\n",
              "      <td>Older American</td>\n",
              "      <td>NaN</td>\n",
              "      <td>Phone</td>\n",
              "      <td>2022-08-15</td>\n",
              "      <td>Closed with explanation</td>\n",
              "      <td>Yes</td>\n",
              "      <td>NaN</td>\n",
              "      <td>5879503</td>\n",
              "    </tr>\n",
              "  </tbody>\n",
              "</table>\n",
              "<p>4082544 rows × 18 columns</p>\n",
              "</div>\n",
              "    <div class=\"colab-df-buttons\">\n",
              "\n",
              "  <div class=\"colab-df-container\">\n",
              "    <button class=\"colab-df-convert\" onclick=\"convertToInteractive('df-cb08e82b-c724-4fbc-8c8e-936f85ce4d9e')\"\n",
              "            title=\"Convert this dataframe to an interactive table.\"\n",
              "            style=\"display:none;\">\n",
              "\n",
              "  <svg xmlns=\"http://www.w3.org/2000/svg\" height=\"24px\" viewBox=\"0 -960 960 960\">\n",
              "    <path d=\"M120-120v-720h720v720H120Zm60-500h600v-160H180v160Zm220 220h160v-160H400v160Zm0 220h160v-160H400v160ZM180-400h160v-160H180v160Zm440 0h160v-160H620v160ZM180-180h160v-160H180v160Zm440 0h160v-160H620v160Z\"/>\n",
              "  </svg>\n",
              "    </button>\n",
              "\n",
              "  <style>\n",
              "    .colab-df-container {\n",
              "      display:flex;\n",
              "      gap: 12px;\n",
              "    }\n",
              "\n",
              "    .colab-df-convert {\n",
              "      background-color: #E8F0FE;\n",
              "      border: none;\n",
              "      border-radius: 50%;\n",
              "      cursor: pointer;\n",
              "      display: none;\n",
              "      fill: #1967D2;\n",
              "      height: 32px;\n",
              "      padding: 0 0 0 0;\n",
              "      width: 32px;\n",
              "    }\n",
              "\n",
              "    .colab-df-convert:hover {\n",
              "      background-color: #E2EBFA;\n",
              "      box-shadow: 0px 1px 2px rgba(60, 64, 67, 0.3), 0px 1px 3px 1px rgba(60, 64, 67, 0.15);\n",
              "      fill: #174EA6;\n",
              "    }\n",
              "\n",
              "    .colab-df-buttons div {\n",
              "      margin-bottom: 4px;\n",
              "    }\n",
              "\n",
              "    [theme=dark] .colab-df-convert {\n",
              "      background-color: #3B4455;\n",
              "      fill: #D2E3FC;\n",
              "    }\n",
              "\n",
              "    [theme=dark] .colab-df-convert:hover {\n",
              "      background-color: #434B5C;\n",
              "      box-shadow: 0px 1px 3px 1px rgba(0, 0, 0, 0.15);\n",
              "      filter: drop-shadow(0px 1px 2px rgba(0, 0, 0, 0.3));\n",
              "      fill: #FFFFFF;\n",
              "    }\n",
              "  </style>\n",
              "\n",
              "    <script>\n",
              "      const buttonEl =\n",
              "        document.querySelector('#df-cb08e82b-c724-4fbc-8c8e-936f85ce4d9e button.colab-df-convert');\n",
              "      buttonEl.style.display =\n",
              "        google.colab.kernel.accessAllowed ? 'block' : 'none';\n",
              "\n",
              "      async function convertToInteractive(key) {\n",
              "        const element = document.querySelector('#df-cb08e82b-c724-4fbc-8c8e-936f85ce4d9e');\n",
              "        const dataTable =\n",
              "          await google.colab.kernel.invokeFunction('convertToInteractive',\n",
              "                                                    [key], {});\n",
              "        if (!dataTable) return;\n",
              "\n",
              "        const docLinkHtml = 'Like what you see? Visit the ' +\n",
              "          '<a target=\"_blank\" href=https://colab.research.google.com/notebooks/data_table.ipynb>data table notebook</a>'\n",
              "          + ' to learn more about interactive tables.';\n",
              "        element.innerHTML = '';\n",
              "        dataTable['output_type'] = 'display_data';\n",
              "        await google.colab.output.renderOutput(dataTable, element);\n",
              "        const docLink = document.createElement('div');\n",
              "        docLink.innerHTML = docLinkHtml;\n",
              "        element.appendChild(docLink);\n",
              "      }\n",
              "    </script>\n",
              "  </div>\n",
              "\n",
              "\n",
              "<div id=\"df-c4893dd0-70da-4300-b7d5-c1d60615491e\">\n",
              "  <button class=\"colab-df-quickchart\" onclick=\"quickchart('df-c4893dd0-70da-4300-b7d5-c1d60615491e')\"\n",
              "            title=\"Suggest charts.\"\n",
              "            style=\"display:none;\">\n",
              "\n",
              "<svg xmlns=\"http://www.w3.org/2000/svg\" height=\"24px\"viewBox=\"0 0 24 24\"\n",
              "     width=\"24px\">\n",
              "    <g>\n",
              "        <path d=\"M19 3H5c-1.1 0-2 .9-2 2v14c0 1.1.9 2 2 2h14c1.1 0 2-.9 2-2V5c0-1.1-.9-2-2-2zM9 17H7v-7h2v7zm4 0h-2V7h2v10zm4 0h-2v-4h2v4z\"/>\n",
              "    </g>\n",
              "</svg>\n",
              "  </button>\n",
              "\n",
              "<style>\n",
              "  .colab-df-quickchart {\n",
              "      --bg-color: #E8F0FE;\n",
              "      --fill-color: #1967D2;\n",
              "      --hover-bg-color: #E2EBFA;\n",
              "      --hover-fill-color: #174EA6;\n",
              "      --disabled-fill-color: #AAA;\n",
              "      --disabled-bg-color: #DDD;\n",
              "  }\n",
              "\n",
              "  [theme=dark] .colab-df-quickchart {\n",
              "      --bg-color: #3B4455;\n",
              "      --fill-color: #D2E3FC;\n",
              "      --hover-bg-color: #434B5C;\n",
              "      --hover-fill-color: #FFFFFF;\n",
              "      --disabled-bg-color: #3B4455;\n",
              "      --disabled-fill-color: #666;\n",
              "  }\n",
              "\n",
              "  .colab-df-quickchart {\n",
              "    background-color: var(--bg-color);\n",
              "    border: none;\n",
              "    border-radius: 50%;\n",
              "    cursor: pointer;\n",
              "    display: none;\n",
              "    fill: var(--fill-color);\n",
              "    height: 32px;\n",
              "    padding: 0;\n",
              "    width: 32px;\n",
              "  }\n",
              "\n",
              "  .colab-df-quickchart:hover {\n",
              "    background-color: var(--hover-bg-color);\n",
              "    box-shadow: 0 1px 2px rgba(60, 64, 67, 0.3), 0 1px 3px 1px rgba(60, 64, 67, 0.15);\n",
              "    fill: var(--button-hover-fill-color);\n",
              "  }\n",
              "\n",
              "  .colab-df-quickchart-complete:disabled,\n",
              "  .colab-df-quickchart-complete:disabled:hover {\n",
              "    background-color: var(--disabled-bg-color);\n",
              "    fill: var(--disabled-fill-color);\n",
              "    box-shadow: none;\n",
              "  }\n",
              "\n",
              "  .colab-df-spinner {\n",
              "    border: 2px solid var(--fill-color);\n",
              "    border-color: transparent;\n",
              "    border-bottom-color: var(--fill-color);\n",
              "    animation:\n",
              "      spin 1s steps(1) infinite;\n",
              "  }\n",
              "\n",
              "  @keyframes spin {\n",
              "    0% {\n",
              "      border-color: transparent;\n",
              "      border-bottom-color: var(--fill-color);\n",
              "      border-left-color: var(--fill-color);\n",
              "    }\n",
              "    20% {\n",
              "      border-color: transparent;\n",
              "      border-left-color: var(--fill-color);\n",
              "      border-top-color: var(--fill-color);\n",
              "    }\n",
              "    30% {\n",
              "      border-color: transparent;\n",
              "      border-left-color: var(--fill-color);\n",
              "      border-top-color: var(--fill-color);\n",
              "      border-right-color: var(--fill-color);\n",
              "    }\n",
              "    40% {\n",
              "      border-color: transparent;\n",
              "      border-right-color: var(--fill-color);\n",
              "      border-top-color: var(--fill-color);\n",
              "    }\n",
              "    60% {\n",
              "      border-color: transparent;\n",
              "      border-right-color: var(--fill-color);\n",
              "    }\n",
              "    80% {\n",
              "      border-color: transparent;\n",
              "      border-right-color: var(--fill-color);\n",
              "      border-bottom-color: var(--fill-color);\n",
              "    }\n",
              "    90% {\n",
              "      border-color: transparent;\n",
              "      border-bottom-color: var(--fill-color);\n",
              "    }\n",
              "  }\n",
              "</style>\n",
              "\n",
              "  <script>\n",
              "    async function quickchart(key) {\n",
              "      const quickchartButtonEl =\n",
              "        document.querySelector('#' + key + ' button');\n",
              "      quickchartButtonEl.disabled = true;  // To prevent multiple clicks.\n",
              "      quickchartButtonEl.classList.add('colab-df-spinner');\n",
              "      try {\n",
              "        const charts = await google.colab.kernel.invokeFunction(\n",
              "            'suggestCharts', [key], {});\n",
              "      } catch (error) {\n",
              "        console.error('Error during call to suggestCharts:', error);\n",
              "      }\n",
              "      quickchartButtonEl.classList.remove('colab-df-spinner');\n",
              "      quickchartButtonEl.classList.add('colab-df-quickchart-complete');\n",
              "    }\n",
              "    (() => {\n",
              "      let quickchartButtonEl =\n",
              "        document.querySelector('#df-c4893dd0-70da-4300-b7d5-c1d60615491e button');\n",
              "      quickchartButtonEl.style.display =\n",
              "        google.colab.kernel.accessAllowed ? 'block' : 'none';\n",
              "    })();\n",
              "  </script>\n",
              "</div>\n",
              "    </div>\n",
              "  </div>\n"
            ]
          },
          "metadata": {},
          "execution_count": 4
        }
      ]
    },
    {
      "cell_type": "markdown",
      "source": [
        "#extracting the dependent feature"
      ],
      "metadata": {
        "id": "O05V2RhJdQ2b"
      }
    },
    {
      "cell_type": "code",
      "source": [
        "y=df['Product']\n",
        "y"
      ],
      "metadata": {
        "colab": {
          "base_uri": "https://localhost:8080/"
        },
        "id": "J9brRDJbs-dH",
        "outputId": "aeb7fd58-95b8-46a2-8b47-dc6a246b32c7"
      },
      "execution_count": null,
      "outputs": [
        {
          "output_type": "execute_result",
          "data": {
            "text/plain": [
              "0          Credit reporting or other personal consumer re...\n",
              "1          Credit reporting or other personal consumer re...\n",
              "2          Credit reporting or other personal consumer re...\n",
              "3          Credit reporting, credit repair services, or o...\n",
              "4          Credit reporting or other personal consumer re...\n",
              "                                 ...                        \n",
              "4082539                                          Credit card\n",
              "4082540                                     Credit reporting\n",
              "4082541                                             Mortgage\n",
              "4082542                                      Debt collection\n",
              "4082543                          Checking or savings account\n",
              "Name: Product, Length: 4082544, dtype: object"
            ]
          },
          "metadata": {},
          "execution_count": 5
        }
      ]
    },
    {
      "cell_type": "code",
      "source": [
        "df['Product'].value_counts()"
      ],
      "metadata": {
        "colab": {
          "base_uri": "https://localhost:8080/"
        },
        "id": "-frpf3jJu8ko",
        "outputId": "79f28dbf-29bb-4ff1-ef2e-7a21dad73094"
      },
      "execution_count": null,
      "outputs": [
        {
          "output_type": "execute_result",
          "data": {
            "text/plain": [
              "Credit reporting, credit repair services, or other personal consumer reports    2166955\n",
              "Debt collection                                                                  506087\n",
              "Mortgage                                                                         384016\n",
              "Credit card or prepaid card                                                      206229\n",
              "Checking or savings account                                                      182258\n",
              "Credit reporting                                                                 140429\n",
              "Credit card                                                                       91543\n",
              "Bank account or service                                                           86205\n",
              "Student loan                                                                      76625\n",
              "Money transfer, virtual currency, or money service                                58670\n",
              "Credit reporting or other personal consumer reports                               57544\n",
              "Vehicle loan or lease                                                             47596\n",
              "Consumer Loan                                                                     31575\n",
              "Payday loan, title loan, or personal loan                                         30614\n",
              "Payday loan                                                                        5541\n",
              "Money transfers                                                                    5354\n",
              "Prepaid card                                                                       3942\n",
              "Other financial service                                                            1058\n",
              "Payday loan, title loan, personal loan, or advance loan                             227\n",
              "Debt or credit management                                                            58\n",
              "Virtual currency                                                                     18\n",
              "Name: Product, dtype: int64"
            ]
          },
          "metadata": {},
          "execution_count": 17
        }
      ]
    },
    {
      "cell_type": "markdown",
      "source": [
        "#performing label encoding on y feature"
      ],
      "metadata": {
        "id": "FOurF9UbdZCf"
      }
    },
    {
      "cell_type": "code",
      "source": [
        "from sklearn.preprocessing import LabelEncoder\n",
        "label_encoder = LabelEncoder()\n",
        "y = label_encoder.fit_transform(y)"
      ],
      "metadata": {
        "id": "7HM5-CvYvyQ6"
      },
      "execution_count": null,
      "outputs": []
    },
    {
      "cell_type": "code",
      "source": [
        "y"
      ],
      "metadata": {
        "colab": {
          "base_uri": "https://localhost:8080/"
        },
        "id": "cJS_kNSQu0T8",
        "outputId": "c1871a1b-74fe-4c94-ec88-a13bb5b55600"
      },
      "execution_count": null,
      "outputs": [
        {
          "output_type": "execute_result",
          "data": {
            "text/plain": [
              "array([ 6,  6,  6, ..., 12,  8,  1])"
            ]
          },
          "metadata": {},
          "execution_count": 7
        }
      ]
    },
    {
      "cell_type": "markdown",
      "source": [
        "#extracting x (indepedent features)"
      ],
      "metadata": {
        "id": "jgAX-t6KdgqR"
      }
    },
    {
      "cell_type": "code",
      "source": [
        "x=df[['Sub-product','Issue','Sub-issue','Company response to consumer','Consumer consent provided?','Consumer complaint narrative','Company public response','Consumer disputed?']]"
      ],
      "metadata": {
        "id": "mm48u7PrwUlo"
      },
      "execution_count": 18,
      "outputs": []
    },
    {
      "cell_type": "code",
      "source": [
        "x"
      ],
      "metadata": {
        "colab": {
          "base_uri": "https://localhost:8080/",
          "height": 614
        },
        "id": "P346F8HwxIcS",
        "outputId": "562b49ac-b438-4f73-d29f-f7c1cd7f9d20"
      },
      "execution_count": null,
      "outputs": [
        {
          "output_type": "execute_result",
          "data": {
            "text/plain": [
              "                        Sub-product  \\\n",
              "0                  Credit reporting   \n",
              "1                  Credit reporting   \n",
              "2                  Credit reporting   \n",
              "3                  Credit reporting   \n",
              "4                  Credit reporting   \n",
              "...                             ...   \n",
              "4082539                         NaN   \n",
              "4082540                         NaN   \n",
              "4082541  Conventional home mortgage   \n",
              "4082542               I do not know   \n",
              "4082543            Checking account   \n",
              "\n",
              "                                                     Issue  \\\n",
              "0                     Incorrect information on your report   \n",
              "1                              Improper use of your report   \n",
              "2                     Incorrect information on your report   \n",
              "3        Problem with a credit reporting company's inve...   \n",
              "4                              Improper use of your report   \n",
              "...                                                    ...   \n",
              "4082539                                    Sale of account   \n",
              "4082540             Incorrect information on credit report   \n",
              "4082541  Applying for a mortgage or refinancing an exis...   \n",
              "4082542                  Attempts to collect debt not owed   \n",
              "4082543                                Managing an account   \n",
              "\n",
              "                                                 Sub-issue  \\\n",
              "0                           Personal information incorrect   \n",
              "1        Credit inquiries on your report that you don't...   \n",
              "2                      Information belongs to someone else   \n",
              "3        Was not notified of investigation status or re...   \n",
              "4            Reporting company used your report improperly   \n",
              "...                                                    ...   \n",
              "4082539                                                NaN   \n",
              "4082540                                     Account status   \n",
              "4082541                                                NaN   \n",
              "4082542                                  Debt is not yours   \n",
              "4082543                           Deposits and withdrawals   \n",
              "\n",
              "            Company response to consumer Consumer consent provided?  \\\n",
              "0        Closed with non-monetary relief                        NaN   \n",
              "1                Closed with explanation                        NaN   \n",
              "2        Closed with non-monetary relief                        NaN   \n",
              "3                            In progress                      Other   \n",
              "4                Closed with explanation                        NaN   \n",
              "...                                  ...                        ...   \n",
              "4082539          Closed with explanation                        NaN   \n",
              "4082540          Closed with explanation       Consent not provided   \n",
              "4082541          Closed with explanation                        NaN   \n",
              "4082542  Closed with non-monetary relief       Consent not provided   \n",
              "4082543          Closed with explanation                        NaN   \n",
              "\n",
              "        Consumer complaint narrative  \n",
              "0                                NaN  \n",
              "1                                NaN  \n",
              "2                                NaN  \n",
              "3                                NaN  \n",
              "4                                NaN  \n",
              "...                              ...  \n",
              "4082539                          NaN  \n",
              "4082540                          NaN  \n",
              "4082541                          NaN  \n",
              "4082542                          NaN  \n",
              "4082543                          NaN  \n",
              "\n",
              "[4082544 rows x 6 columns]"
            ],
            "text/html": [
              "\n",
              "  <div id=\"df-fcda674b-541a-48b0-a9f0-a6ce01a1b63f\" class=\"colab-df-container\">\n",
              "    <div>\n",
              "<style scoped>\n",
              "    .dataframe tbody tr th:only-of-type {\n",
              "        vertical-align: middle;\n",
              "    }\n",
              "\n",
              "    .dataframe tbody tr th {\n",
              "        vertical-align: top;\n",
              "    }\n",
              "\n",
              "    .dataframe thead th {\n",
              "        text-align: right;\n",
              "    }\n",
              "</style>\n",
              "<table border=\"1\" class=\"dataframe\">\n",
              "  <thead>\n",
              "    <tr style=\"text-align: right;\">\n",
              "      <th></th>\n",
              "      <th>Sub-product</th>\n",
              "      <th>Issue</th>\n",
              "      <th>Sub-issue</th>\n",
              "      <th>Company response to consumer</th>\n",
              "      <th>Consumer consent provided?</th>\n",
              "      <th>Consumer complaint narrative</th>\n",
              "    </tr>\n",
              "  </thead>\n",
              "  <tbody>\n",
              "    <tr>\n",
              "      <th>0</th>\n",
              "      <td>Credit reporting</td>\n",
              "      <td>Incorrect information on your report</td>\n",
              "      <td>Personal information incorrect</td>\n",
              "      <td>Closed with non-monetary relief</td>\n",
              "      <td>NaN</td>\n",
              "      <td>NaN</td>\n",
              "    </tr>\n",
              "    <tr>\n",
              "      <th>1</th>\n",
              "      <td>Credit reporting</td>\n",
              "      <td>Improper use of your report</td>\n",
              "      <td>Credit inquiries on your report that you don't...</td>\n",
              "      <td>Closed with explanation</td>\n",
              "      <td>NaN</td>\n",
              "      <td>NaN</td>\n",
              "    </tr>\n",
              "    <tr>\n",
              "      <th>2</th>\n",
              "      <td>Credit reporting</td>\n",
              "      <td>Incorrect information on your report</td>\n",
              "      <td>Information belongs to someone else</td>\n",
              "      <td>Closed with non-monetary relief</td>\n",
              "      <td>NaN</td>\n",
              "      <td>NaN</td>\n",
              "    </tr>\n",
              "    <tr>\n",
              "      <th>3</th>\n",
              "      <td>Credit reporting</td>\n",
              "      <td>Problem with a credit reporting company's inve...</td>\n",
              "      <td>Was not notified of investigation status or re...</td>\n",
              "      <td>In progress</td>\n",
              "      <td>Other</td>\n",
              "      <td>NaN</td>\n",
              "    </tr>\n",
              "    <tr>\n",
              "      <th>4</th>\n",
              "      <td>Credit reporting</td>\n",
              "      <td>Improper use of your report</td>\n",
              "      <td>Reporting company used your report improperly</td>\n",
              "      <td>Closed with explanation</td>\n",
              "      <td>NaN</td>\n",
              "      <td>NaN</td>\n",
              "    </tr>\n",
              "    <tr>\n",
              "      <th>...</th>\n",
              "      <td>...</td>\n",
              "      <td>...</td>\n",
              "      <td>...</td>\n",
              "      <td>...</td>\n",
              "      <td>...</td>\n",
              "      <td>...</td>\n",
              "    </tr>\n",
              "    <tr>\n",
              "      <th>4082539</th>\n",
              "      <td>NaN</td>\n",
              "      <td>Sale of account</td>\n",
              "      <td>NaN</td>\n",
              "      <td>Closed with explanation</td>\n",
              "      <td>NaN</td>\n",
              "      <td>NaN</td>\n",
              "    </tr>\n",
              "    <tr>\n",
              "      <th>4082540</th>\n",
              "      <td>NaN</td>\n",
              "      <td>Incorrect information on credit report</td>\n",
              "      <td>Account status</td>\n",
              "      <td>Closed with explanation</td>\n",
              "      <td>Consent not provided</td>\n",
              "      <td>NaN</td>\n",
              "    </tr>\n",
              "    <tr>\n",
              "      <th>4082541</th>\n",
              "      <td>Conventional home mortgage</td>\n",
              "      <td>Applying for a mortgage or refinancing an exis...</td>\n",
              "      <td>NaN</td>\n",
              "      <td>Closed with explanation</td>\n",
              "      <td>NaN</td>\n",
              "      <td>NaN</td>\n",
              "    </tr>\n",
              "    <tr>\n",
              "      <th>4082542</th>\n",
              "      <td>I do not know</td>\n",
              "      <td>Attempts to collect debt not owed</td>\n",
              "      <td>Debt is not yours</td>\n",
              "      <td>Closed with non-monetary relief</td>\n",
              "      <td>Consent not provided</td>\n",
              "      <td>NaN</td>\n",
              "    </tr>\n",
              "    <tr>\n",
              "      <th>4082543</th>\n",
              "      <td>Checking account</td>\n",
              "      <td>Managing an account</td>\n",
              "      <td>Deposits and withdrawals</td>\n",
              "      <td>Closed with explanation</td>\n",
              "      <td>NaN</td>\n",
              "      <td>NaN</td>\n",
              "    </tr>\n",
              "  </tbody>\n",
              "</table>\n",
              "<p>4082544 rows × 6 columns</p>\n",
              "</div>\n",
              "    <div class=\"colab-df-buttons\">\n",
              "\n",
              "  <div class=\"colab-df-container\">\n",
              "    <button class=\"colab-df-convert\" onclick=\"convertToInteractive('df-fcda674b-541a-48b0-a9f0-a6ce01a1b63f')\"\n",
              "            title=\"Convert this dataframe to an interactive table.\"\n",
              "            style=\"display:none;\">\n",
              "\n",
              "  <svg xmlns=\"http://www.w3.org/2000/svg\" height=\"24px\" viewBox=\"0 -960 960 960\">\n",
              "    <path d=\"M120-120v-720h720v720H120Zm60-500h600v-160H180v160Zm220 220h160v-160H400v160Zm0 220h160v-160H400v160ZM180-400h160v-160H180v160Zm440 0h160v-160H620v160ZM180-180h160v-160H180v160Zm440 0h160v-160H620v160Z\"/>\n",
              "  </svg>\n",
              "    </button>\n",
              "\n",
              "  <style>\n",
              "    .colab-df-container {\n",
              "      display:flex;\n",
              "      gap: 12px;\n",
              "    }\n",
              "\n",
              "    .colab-df-convert {\n",
              "      background-color: #E8F0FE;\n",
              "      border: none;\n",
              "      border-radius: 50%;\n",
              "      cursor: pointer;\n",
              "      display: none;\n",
              "      fill: #1967D2;\n",
              "      height: 32px;\n",
              "      padding: 0 0 0 0;\n",
              "      width: 32px;\n",
              "    }\n",
              "\n",
              "    .colab-df-convert:hover {\n",
              "      background-color: #E2EBFA;\n",
              "      box-shadow: 0px 1px 2px rgba(60, 64, 67, 0.3), 0px 1px 3px 1px rgba(60, 64, 67, 0.15);\n",
              "      fill: #174EA6;\n",
              "    }\n",
              "\n",
              "    .colab-df-buttons div {\n",
              "      margin-bottom: 4px;\n",
              "    }\n",
              "\n",
              "    [theme=dark] .colab-df-convert {\n",
              "      background-color: #3B4455;\n",
              "      fill: #D2E3FC;\n",
              "    }\n",
              "\n",
              "    [theme=dark] .colab-df-convert:hover {\n",
              "      background-color: #434B5C;\n",
              "      box-shadow: 0px 1px 3px 1px rgba(0, 0, 0, 0.15);\n",
              "      filter: drop-shadow(0px 1px 2px rgba(0, 0, 0, 0.3));\n",
              "      fill: #FFFFFF;\n",
              "    }\n",
              "  </style>\n",
              "\n",
              "    <script>\n",
              "      const buttonEl =\n",
              "        document.querySelector('#df-fcda674b-541a-48b0-a9f0-a6ce01a1b63f button.colab-df-convert');\n",
              "      buttonEl.style.display =\n",
              "        google.colab.kernel.accessAllowed ? 'block' : 'none';\n",
              "\n",
              "      async function convertToInteractive(key) {\n",
              "        const element = document.querySelector('#df-fcda674b-541a-48b0-a9f0-a6ce01a1b63f');\n",
              "        const dataTable =\n",
              "          await google.colab.kernel.invokeFunction('convertToInteractive',\n",
              "                                                    [key], {});\n",
              "        if (!dataTable) return;\n",
              "\n",
              "        const docLinkHtml = 'Like what you see? Visit the ' +\n",
              "          '<a target=\"_blank\" href=https://colab.research.google.com/notebooks/data_table.ipynb>data table notebook</a>'\n",
              "          + ' to learn more about interactive tables.';\n",
              "        element.innerHTML = '';\n",
              "        dataTable['output_type'] = 'display_data';\n",
              "        await google.colab.output.renderOutput(dataTable, element);\n",
              "        const docLink = document.createElement('div');\n",
              "        docLink.innerHTML = docLinkHtml;\n",
              "        element.appendChild(docLink);\n",
              "      }\n",
              "    </script>\n",
              "  </div>\n",
              "\n",
              "\n",
              "<div id=\"df-99d0d57e-a42d-4a4b-8810-1f8eb8b4acc4\">\n",
              "  <button class=\"colab-df-quickchart\" onclick=\"quickchart('df-99d0d57e-a42d-4a4b-8810-1f8eb8b4acc4')\"\n",
              "            title=\"Suggest charts.\"\n",
              "            style=\"display:none;\">\n",
              "\n",
              "<svg xmlns=\"http://www.w3.org/2000/svg\" height=\"24px\"viewBox=\"0 0 24 24\"\n",
              "     width=\"24px\">\n",
              "    <g>\n",
              "        <path d=\"M19 3H5c-1.1 0-2 .9-2 2v14c0 1.1.9 2 2 2h14c1.1 0 2-.9 2-2V5c0-1.1-.9-2-2-2zM9 17H7v-7h2v7zm4 0h-2V7h2v10zm4 0h-2v-4h2v4z\"/>\n",
              "    </g>\n",
              "</svg>\n",
              "  </button>\n",
              "\n",
              "<style>\n",
              "  .colab-df-quickchart {\n",
              "      --bg-color: #E8F0FE;\n",
              "      --fill-color: #1967D2;\n",
              "      --hover-bg-color: #E2EBFA;\n",
              "      --hover-fill-color: #174EA6;\n",
              "      --disabled-fill-color: #AAA;\n",
              "      --disabled-bg-color: #DDD;\n",
              "  }\n",
              "\n",
              "  [theme=dark] .colab-df-quickchart {\n",
              "      --bg-color: #3B4455;\n",
              "      --fill-color: #D2E3FC;\n",
              "      --hover-bg-color: #434B5C;\n",
              "      --hover-fill-color: #FFFFFF;\n",
              "      --disabled-bg-color: #3B4455;\n",
              "      --disabled-fill-color: #666;\n",
              "  }\n",
              "\n",
              "  .colab-df-quickchart {\n",
              "    background-color: var(--bg-color);\n",
              "    border: none;\n",
              "    border-radius: 50%;\n",
              "    cursor: pointer;\n",
              "    display: none;\n",
              "    fill: var(--fill-color);\n",
              "    height: 32px;\n",
              "    padding: 0;\n",
              "    width: 32px;\n",
              "  }\n",
              "\n",
              "  .colab-df-quickchart:hover {\n",
              "    background-color: var(--hover-bg-color);\n",
              "    box-shadow: 0 1px 2px rgba(60, 64, 67, 0.3), 0 1px 3px 1px rgba(60, 64, 67, 0.15);\n",
              "    fill: var(--button-hover-fill-color);\n",
              "  }\n",
              "\n",
              "  .colab-df-quickchart-complete:disabled,\n",
              "  .colab-df-quickchart-complete:disabled:hover {\n",
              "    background-color: var(--disabled-bg-color);\n",
              "    fill: var(--disabled-fill-color);\n",
              "    box-shadow: none;\n",
              "  }\n",
              "\n",
              "  .colab-df-spinner {\n",
              "    border: 2px solid var(--fill-color);\n",
              "    border-color: transparent;\n",
              "    border-bottom-color: var(--fill-color);\n",
              "    animation:\n",
              "      spin 1s steps(1) infinite;\n",
              "  }\n",
              "\n",
              "  @keyframes spin {\n",
              "    0% {\n",
              "      border-color: transparent;\n",
              "      border-bottom-color: var(--fill-color);\n",
              "      border-left-color: var(--fill-color);\n",
              "    }\n",
              "    20% {\n",
              "      border-color: transparent;\n",
              "      border-left-color: var(--fill-color);\n",
              "      border-top-color: var(--fill-color);\n",
              "    }\n",
              "    30% {\n",
              "      border-color: transparent;\n",
              "      border-left-color: var(--fill-color);\n",
              "      border-top-color: var(--fill-color);\n",
              "      border-right-color: var(--fill-color);\n",
              "    }\n",
              "    40% {\n",
              "      border-color: transparent;\n",
              "      border-right-color: var(--fill-color);\n",
              "      border-top-color: var(--fill-color);\n",
              "    }\n",
              "    60% {\n",
              "      border-color: transparent;\n",
              "      border-right-color: var(--fill-color);\n",
              "    }\n",
              "    80% {\n",
              "      border-color: transparent;\n",
              "      border-right-color: var(--fill-color);\n",
              "      border-bottom-color: var(--fill-color);\n",
              "    }\n",
              "    90% {\n",
              "      border-color: transparent;\n",
              "      border-bottom-color: var(--fill-color);\n",
              "    }\n",
              "  }\n",
              "</style>\n",
              "\n",
              "  <script>\n",
              "    async function quickchart(key) {\n",
              "      const quickchartButtonEl =\n",
              "        document.querySelector('#' + key + ' button');\n",
              "      quickchartButtonEl.disabled = true;  // To prevent multiple clicks.\n",
              "      quickchartButtonEl.classList.add('colab-df-spinner');\n",
              "      try {\n",
              "        const charts = await google.colab.kernel.invokeFunction(\n",
              "            'suggestCharts', [key], {});\n",
              "      } catch (error) {\n",
              "        console.error('Error during call to suggestCharts:', error);\n",
              "      }\n",
              "      quickchartButtonEl.classList.remove('colab-df-spinner');\n",
              "      quickchartButtonEl.classList.add('colab-df-quickchart-complete');\n",
              "    }\n",
              "    (() => {\n",
              "      let quickchartButtonEl =\n",
              "        document.querySelector('#df-99d0d57e-a42d-4a4b-8810-1f8eb8b4acc4 button');\n",
              "      quickchartButtonEl.style.display =\n",
              "        google.colab.kernel.accessAllowed ? 'block' : 'none';\n",
              "    })();\n",
              "  </script>\n",
              "</div>\n",
              "    </div>\n",
              "  </div>\n"
            ]
          },
          "metadata": {},
          "execution_count": 9
        }
      ]
    },
    {
      "cell_type": "markdown",
      "source": [
        "#Data Preprocessing"
      ],
      "metadata": {
        "id": "MBfpSA0vzjaU"
      }
    },
    {
      "cell_type": "markdown",
      "source": [
        "Checking for the type of values in 'issue' attributes"
      ],
      "metadata": {
        "id": "xYjmBUVN16ub"
      }
    },
    {
      "cell_type": "code",
      "source": [
        "df['Issue'].value_counts()"
      ],
      "metadata": {
        "colab": {
          "base_uri": "https://localhost:8080/"
        },
        "id": "K7QXreRuwF54",
        "outputId": "29748087-338b-414a-8284-43fd0b994f82"
      },
      "execution_count": null,
      "outputs": [
        {
          "output_type": "execute_result",
          "data": {
            "text/plain": [
              "Incorrect information on your report                                                1064980\n",
              "Problem with a credit reporting company's investigation into an existing problem     590375\n",
              "Improper use of your report                                                          530142\n",
              "Attempts to collect debt not owed                                                    181805\n",
              "Loan modification,collection,foreclosure                                             112306\n",
              "                                                                                     ...   \n",
              "Property was damaged or destroyed property                                                7\n",
              "Issues with repayment                                                                     3\n",
              "Lender damaged or destroyed property                                                      3\n",
              "Issue where my lender is my school                                                        2\n",
              "Issue with income share agreement                                                         1\n",
              "Name: Issue, Length: 175, dtype: int64"
            ]
          },
          "metadata": {},
          "execution_count": 10
        }
      ]
    },
    {
      "cell_type": "markdown",
      "source": [
        "performing CountVectorizer on 'issue' feature"
      ],
      "metadata": {
        "id": "iilSKlipeNqM"
      }
    },
    {
      "cell_type": "code",
      "source": [
        "import pandas as pd\n",
        "from sklearn.feature_extraction.text import CountVectorizer\n",
        "\n",
        "# Initialize CountVectorizer\n",
        "vectorizer = CountVectorizer()"
      ],
      "metadata": {
        "id": "6atH3B7eQaOm"
      },
      "execution_count": 19,
      "outputs": []
    },
    {
      "cell_type": "code",
      "source": [
        "# Fit and transform the text data\n",
        "issue_features = vectorizer.fit_transform(x['Issue'])"
      ],
      "metadata": {
        "id": "rVUeRInKaBAv"
      },
      "execution_count": 20,
      "outputs": []
    },
    {
      "cell_type": "code",
      "source": [
        "# Create a DataFrame from the dense array\n",
        "issue_df = pd.DataFrame(issue_features.toarray(), columns=vectorizer.get_feature_names_out())"
      ],
      "metadata": {
        "id": "sQNDWRdbVTTp"
      },
      "execution_count": null,
      "outputs": []
    },
    {
      "cell_type": "code",
      "source": [
        "df = pd.concat([df, issue_df], axis=1)"
      ],
      "metadata": {
        "id": "lGtLUqGUeuTR"
      },
      "execution_count": null,
      "outputs": []
    },
    {
      "cell_type": "markdown",
      "source": [
        "Checking for the type of values in 'Sub-issue' attributes"
      ],
      "metadata": {
        "id": "s2PE_e7xe7nM"
      }
    },
    {
      "cell_type": "code",
      "source": [
        "df['Issue'].value_counts()"
      ],
      "metadata": {
        "id": "JidAsdyXfIhm"
      },
      "execution_count": null,
      "outputs": []
    },
    {
      "cell_type": "markdown",
      "source": [
        "performing CountVectorizer on 'Sub-issue' feature"
      ],
      "metadata": {
        "id": "X8GVLCE1fYew"
      }
    },
    {
      "cell_type": "code",
      "source": [
        "# Fit and transform the text data\n",
        "X = vectorizer.fit_transform(df['Sub-issue'])\n",
        "\n",
        "# Convert the transformed data to a DataFrame and assign column names\n",
        "Subissue_f = pd.DataFrame(X.toarray(), columns=vectorizer.get_feature_names_out())\n",
        "\n",
        "# Concatenate the new DataFrame with the original DataFrame\n",
        "df = pd.concat([df, Subissue_f], axis=1)"
      ],
      "metadata": {
        "id": "hE6FsVt0fIuq"
      },
      "execution_count": null,
      "outputs": []
    },
    {
      "cell_type": "markdown",
      "source": [
        "Checking for the type of values in 'Sub-product' attributes"
      ],
      "metadata": {
        "id": "O57PUcpVfvzz"
      }
    },
    {
      "cell_type": "code",
      "source": [
        "df['Sub-product'].value_counts()"
      ],
      "metadata": {
        "colab": {
          "base_uri": "https://localhost:8080/"
        },
        "id": "VHTNYWKtgV6e",
        "outputId": "0bc785c6-f897-436a-e07f-6c1cf7804be6"
      },
      "execution_count": null,
      "outputs": [
        {
          "output_type": "execute_result",
          "data": {
            "text/plain": [
              "Credit reporting                              2202904\n",
              "Checking account                               204244\n",
              "General-purpose credit card or charge card     160953\n",
              "I do not know                                  112812\n",
              "Other debt                                     100130\n",
              "                                               ...   \n",
              "USDA mortgage                                       5\n",
              "Manufactured home loan                              4\n",
              "Student loan debt relief                            3\n",
              "Other advances of future income                     2\n",
              "Earned wage access                                  2\n",
              "Name: Sub-product, Length: 85, dtype: int64"
            ]
          },
          "metadata": {},
          "execution_count": 12
        }
      ]
    },
    {
      "cell_type": "markdown",
      "source": [
        "performing CountVectorizer on 'Sub-product' feature"
      ],
      "metadata": {
        "id": "eNecXoI6guAf"
      }
    },
    {
      "cell_type": "code",
      "source": [
        "# Fit and transform the text data\n",
        "X = vectorizer.fit_transform(df['Sub-product'])\n",
        "\n",
        "# Convert the transformed data to a DataFrame and assign column names\n",
        "Subproduct_f = pd.DataFrame(X.toarray(), columns=vectorizer.get_feature_names_out())\n",
        "\n",
        "# Concatenate the new DataFrame with the original DataFrame\n",
        "df = pd.concat([df, Subproduct_f], axis=1)"
      ],
      "metadata": {
        "id": "Pkp1g_OPgg6w"
      },
      "execution_count": null,
      "outputs": []
    },
    {
      "cell_type": "markdown",
      "source": [
        "Checking for the type of values in 'issue' attributes"
      ],
      "metadata": {
        "id": "NgKcRKwvg3Nr"
      }
    },
    {
      "cell_type": "code",
      "source": [
        "df['Consumer complaint narrative'].value_counts()"
      ],
      "metadata": {
        "id": "AG17OQ7-hUM5"
      },
      "execution_count": null,
      "outputs": []
    },
    {
      "cell_type": "markdown",
      "source": [
        "performing CountVectorizer on 'Consumer complaint narrative' feature"
      ],
      "metadata": {
        "id": "joo1LAKfhdL2"
      }
    },
    {
      "cell_type": "code",
      "source": [
        "# Fit and transform the text data\n",
        "X = vectorizer.fit_transform(df['Consumer complaint narrative'])\n",
        "\n",
        "# Convert the transformed data to a DataFrame and assign column names\n",
        "Subproduct_f = pd.DataFrame(X.toarray(), columns=vectorizer.get_feature_names_out())\n",
        "\n",
        "# Concatenate the new DataFrame with the original DataFrame\n",
        "df = pd.concat([df, Subproduct_f], axis=1)"
      ],
      "metadata": {
        "id": "sqXu0KWMhYXF"
      },
      "execution_count": null,
      "outputs": []
    },
    {
      "cell_type": "markdown",
      "source": [
        "Checking for the type of values in 'Company public response' attributes\n"
      ],
      "metadata": {
        "id": "7Q4GCvcfhw1z"
      }
    },
    {
      "cell_type": "code",
      "source": [
        "df['Company public response'].value_counts()"
      ],
      "metadata": {
        "id": "y2FPVg2MiD80"
      },
      "execution_count": null,
      "outputs": []
    },
    {
      "cell_type": "markdown",
      "source": [
        "performing CountVectorizer on 'Company public response' feature"
      ],
      "metadata": {
        "id": "bW4Epv3XhxQ_"
      }
    },
    {
      "cell_type": "code",
      "source": [
        "# Fit and transform the text data\n",
        "X = vectorizer.fit_transform(df['Company public response'])\n",
        "\n",
        "# Convert the transformed data to a DataFrame and assign column names\n",
        "Companypublicresponse_f = pd.DataFrame(X.toarray(), columns=vectorizer.get_feature_names_out())\n",
        "\n",
        "# Concatenate the new DataFrame with the original DataFrame\n",
        "df = pd.concat([df, Companypublicresponse_f], axis=1)"
      ],
      "metadata": {
        "id": "89p2DqkUiPb2"
      },
      "execution_count": null,
      "outputs": []
    },
    {
      "cell_type": "markdown",
      "source": [
        "Checking for the type of values in 'Consumer consent provided' attributes"
      ],
      "metadata": {
        "id": "VbFUTwc9iXzM"
      }
    },
    {
      "cell_type": "code",
      "source": [
        "df['Consumer consent provided'].value_counts()"
      ],
      "metadata": {
        "id": "ff7qTpXFiiDx"
      },
      "execution_count": null,
      "outputs": []
    },
    {
      "cell_type": "markdown",
      "source": [
        "performing CountVectorizer on 'Consumer consent provided' feature"
      ],
      "metadata": {
        "id": "AK3aRQqrikl9"
      }
    },
    {
      "cell_type": "code",
      "source": [
        "# Fit and transform the text data\n",
        "X = vectorizer.fit_transform(df['Consumer consent provided'])\n",
        "\n",
        "# Convert the transformed data to a DataFrame and assign column names\n",
        "Consumerconsentprovided_f = pd.DataFrame(X.toarray(), columns=vectorizer.get_feature_names_out())\n",
        "\n",
        "# Concatenate the new\n",
        "\n",
        "df = pd.concat([df, Consumerconsentprovided_f], axis=1)"
      ],
      "metadata": {
        "id": "N0cbvLAoinj6"
      },
      "execution_count": null,
      "outputs": []
    },
    {
      "cell_type": "markdown",
      "source": [
        "Checking for the type of values in 'Company response to consumer' attributes"
      ],
      "metadata": {
        "id": "NzT-va5biz6b"
      }
    },
    {
      "cell_type": "code",
      "source": [
        "df['Company response to consumer'].value_counts()"
      ],
      "metadata": {
        "id": "L4IlqDF_i6rb"
      },
      "execution_count": null,
      "outputs": []
    },
    {
      "cell_type": "markdown",
      "source": [
        "performing CountVectorizer on 'Company response to consumer' feature"
      ],
      "metadata": {
        "id": "BqSpU4H9jBoP"
      }
    },
    {
      "cell_type": "code",
      "source": [
        "# Fit and transform the text data\n",
        "X = vectorizer.fit_transform(df['Company response to consumer'])\n",
        "\n",
        "# Convert the transformed data to a DataFrame and assign column names\n",
        "Companyresponsetoconsumer_f = pd.DataFrame(X.toarray(), columns=vectorizer.get_feature_names_out())\n",
        "\n",
        "# Concatenate the new\n",
        "\n",
        "df = pd.concat([df, Companyresponsetoconsumer_f], axis=1)"
      ],
      "metadata": {
        "id": "8xTmRCrfjEmd"
      },
      "execution_count": null,
      "outputs": []
    },
    {
      "cell_type": "markdown",
      "source": [
        "Checking for the type of values in 'Consumer disputed' attributes"
      ],
      "metadata": {
        "id": "GAohFaNvjNq8"
      }
    },
    {
      "cell_type": "code",
      "source": [
        "df['Consumer disputed?'].value_counts()"
      ],
      "metadata": {
        "id": "nZQnE5UrjTXG"
      },
      "execution_count": null,
      "outputs": []
    },
    {
      "cell_type": "markdown",
      "source": [
        "performing CountVectorizer on 'Consumer disputed' feature"
      ],
      "metadata": {
        "id": "xUfPFdZrjWpJ"
      }
    },
    {
      "cell_type": "code",
      "source": [
        "# Fit and transform the text data\n",
        "X = vectorizer.fit_transform(df['Consumer disputed?'])\n",
        "\n",
        "# Convert the transformed data to a DataFrame and assign column names\n",
        "Consumerdisputed_f = pd.DataFrame(X.toarray(), columns=vectorizer.get_feature_names_out())\n",
        "\n",
        "# Concatenate the new\n",
        "\n",
        "df = pd.concat([df, Consumerdisputed_f], axis=1)"
      ],
      "metadata": {
        "id": "zIUr9mh2jdo7"
      },
      "execution_count": null,
      "outputs": []
    },
    {
      "cell_type": "markdown",
      "source": [
        "extracting the updated features"
      ],
      "metadata": {
        "id": "-8soq_ZRkEKq"
      }
    },
    {
      "cell_type": "code",
      "source": [
        "x=df[['issue_df','Subissue_f','Subproduct_f','Consumercomplaintnarrative_f','Companypublicresponse_f','Consumerconsentprovided_f','Companyresponsetoconsumer_f','Consumer disputed?']]"
      ],
      "metadata": {
        "id": "OxxVFeHEkUBK"
      },
      "execution_count": null,
      "outputs": []
    },
    {
      "cell_type": "markdown",
      "source": [
        "#splitting the features into training and testing set"
      ],
      "metadata": {
        "id": "_JW69nIMmM-J"
      }
    },
    {
      "cell_type": "code",
      "source": [
        "from sklearn.model_selection import train_test_split\n",
        "x_train, x_test, y_train, y_test= train_test_split(x, y, test_size= 1/3, random_state=0)"
      ],
      "metadata": {
        "id": "8O7hfStpmWkf"
      },
      "execution_count": null,
      "outputs": []
    },
    {
      "cell_type": "markdown",
      "source": [
        "#Building models"
      ],
      "metadata": {
        "id": "n-VtV_47usWo"
      }
    },
    {
      "cell_type": "markdown",
      "source": [
        "KNN"
      ],
      "metadata": {
        "id": "Fgli_I4lvwzz"
      }
    },
    {
      "cell_type": "code",
      "source": [
        "#Fitting K-NN classifier to the training set\n",
        "from sklearn.neighbors import KNeighborsClassifier\n",
        "classifierKNN= KNeighborsClassifier(n_neighbors=5, metric='minkowski', p=2 )\n",
        "classifierKNN.fit(x_train, y_train)"
      ],
      "metadata": {
        "id": "y7ao2EGtwLur"
      },
      "execution_count": null,
      "outputs": []
    },
    {
      "cell_type": "code",
      "source": [
        "#Predicting the test set result\n",
        "y_predKNN= classifierKNN.predict(x_test)"
      ],
      "metadata": {
        "id": "2FGp-aWdwWaP"
      },
      "execution_count": null,
      "outputs": []
    },
    {
      "cell_type": "code",
      "source": [
        "#Creating the Confusion matrix\n",
        "from sklearn.metrics import confusion_matrix\n",
        "cm= confusion_matrix(y_test, y_predKNN)"
      ],
      "metadata": {
        "id": "hLV2KDPVweFp"
      },
      "execution_count": null,
      "outputs": []
    },
    {
      "cell_type": "code",
      "source": [
        "from sklearn.metrics import accuracy_score, precision_score, recall_score, f1_score\n",
        "\n",
        "# Assuming you have true labels (y_true) and predicted labels (y_pred)\n",
        "# Calculate and print accuracy\n",
        "accuracy = accuracy_score(y_test, y_predKNN)\n",
        "print(\"Accuracy:\", accuracy)\n",
        "\n",
        "# Calculate and print precision\n",
        "precision = precision_score(y_test, y_predKNN)\n",
        "print(\"Precision:\", precision)\n",
        "\n",
        "# Calculate and print recall\n",
        "recall = recall_score(y_test, y_predKNN)\n",
        "print(\"Recall:\", recall)\n",
        "\n",
        "# Calculate and print F1-score\n",
        "f1 = f1_score(y_test, y_predKNN)\n",
        "print(\"F1-score:\", f1)\n"
      ],
      "metadata": {
        "id": "AWN_cgLc2kqV"
      },
      "execution_count": null,
      "outputs": []
    },
    {
      "cell_type": "markdown",
      "source": [
        "SVM"
      ],
      "metadata": {
        "id": "a3Sho4w5wzKi"
      }
    },
    {
      "cell_type": "code",
      "source": [
        "from sklearn.svm import SVC # \"Support vector classifier\"\n",
        "classifierSVM = SVC(kernel='linear', random_state=0)\n",
        "classifierSVM.fit(x_train, y_train)"
      ],
      "metadata": {
        "id": "zWIpgQKZw0fF"
      },
      "execution_count": null,
      "outputs": []
    },
    {
      "cell_type": "code",
      "source": [
        "#Predicting the test set result\n",
        "y_predSVM= classifierSVM.predict(x_test)"
      ],
      "metadata": {
        "id": "aaF5eRcbw3QY"
      },
      "execution_count": null,
      "outputs": []
    },
    {
      "cell_type": "code",
      "source": [
        "#Creating the Confusion matrix\n",
        "from sklearn.metrics import confusion_matrix\n",
        "cm= confusion_matrix(y_test, y_predSVM)"
      ],
      "metadata": {
        "id": "_hJARiB0w5Ms"
      },
      "execution_count": null,
      "outputs": []
    },
    {
      "cell_type": "code",
      "source": [
        "from sklearn.metrics import accuracy_score, precision_score, recall_score, f1_score\n",
        "\n",
        "# Assuming you have true labels (y_true) and predicted labels (y_pred)\n",
        "# Calculate and print accuracy\n",
        "accuracy = accuracy_score(y_test, y_predSVM)\n",
        "print(\"Accuracy:\", accuracy)\n",
        "\n",
        "# Calculate and print precision\n",
        "precision = precision_score(y_test, y_predSVM)\n",
        "print(\"Precision:\", precision)\n",
        "\n",
        "# Calculate and print recall\n",
        "recall = recall_score(y_test, y_predSVM)\n",
        "print(\"Recall:\", recall)\n",
        "\n",
        "# Calculate and print F1-score\n",
        "f1 = f1_score(y_test, y_predSVM)\n",
        "print(\"F1-score:\", f1)\n"
      ],
      "metadata": {
        "id": "jBvyFD7t2bWY"
      },
      "execution_count": null,
      "outputs": []
    },
    {
      "cell_type": "markdown",
      "source": [
        "Naive Bayes"
      ],
      "metadata": {
        "id": "ymftRjJsxS-g"
      }
    },
    {
      "cell_type": "code",
      "source": [
        "from sklearn.naive_bayes import MultinomialNB\n",
        "classifierMNB=MultinomialNB()\n",
        "classifierMNB.fit(x_train,y_train)\n",
        "y_predMNB=classifierMNB.predict(x_test)\n",
        "y_predMNB"
      ],
      "metadata": {
        "id": "zvSTcVRGyKrS"
      },
      "execution_count": null,
      "outputs": []
    },
    {
      "cell_type": "code",
      "source": [
        "#Creating the Confusion matrix\n",
        "from sklearn.metrics import confusion_matrix\n",
        "cm= confusion_matrix(y_test, y_predMNB)"
      ],
      "metadata": {
        "id": "kA9c5inoyeHt"
      },
      "execution_count": null,
      "outputs": []
    },
    {
      "cell_type": "code",
      "source": [
        "from sklearn.metrics import accuracy_score, precision_score, recall_score, f1_score\n",
        "\n",
        "# Assuming you have true labels (y_true) and predicted labels (y_pred)\n",
        "# Calculate and print accuracy\n",
        "accuracy = accuracy_score(y_test, y_predMNB)\n",
        "print(\"Accuracy:\", accuracy)\n",
        "\n",
        "# Calculate and print precision\n",
        "precision = precision_score(y_test, y_predMNB)\n",
        "print(\"Precision:\", precision)\n",
        "\n",
        "# Calculate and print recall\n",
        "recall = recall_score(y_test, y_predMNB)\n",
        "print(\"Recall:\", recall)\n",
        "\n",
        "# Calculate and print F1-score\n",
        "f1 = f1_score(y_test, y_predMNB)\n",
        "print(\"F1-score:\", f1)\n"
      ],
      "metadata": {
        "id": "MDjktOo12P6E"
      },
      "execution_count": null,
      "outputs": []
    },
    {
      "cell_type": "markdown",
      "source": [
        "Decision Tree"
      ],
      "metadata": {
        "id": "BwhRNuoNyxhT"
      }
    },
    {
      "cell_type": "code",
      "source": [
        "from sklearn.tree import DecisionTreeClassifier\n",
        "classifierDT=DecisionTreeClassifier()\n",
        "classifierDT.fit(x_train,y_train)\n",
        "y_predDT=classifierDT.predict(x_test)\n",
        "y_predDT"
      ],
      "metadata": {
        "id": "-4GwspT1y6ca"
      },
      "execution_count": null,
      "outputs": []
    },
    {
      "cell_type": "code",
      "source": [
        "#Creating the Confusion matrix\n",
        "from sklearn.metrics import confusion_matrix\n",
        "cm= confusion_matrix(y_test, y_predDT)\n",
        "cm"
      ],
      "metadata": {
        "id": "4kH0ce90zK4w"
      },
      "execution_count": null,
      "outputs": []
    },
    {
      "cell_type": "code",
      "source": [
        "from sklearn.metrics import classification_report\n",
        "print(classification_report(y_test,y_predDT))"
      ],
      "metadata": {
        "id": "Pvvsw0ZfzS-K"
      },
      "execution_count": null,
      "outputs": []
    },
    {
      "cell_type": "code",
      "source": [
        "from sklearn.metrics import accuracy_score, precision_score, recall_score, f1_score\n",
        "\n",
        "# Assuming you have true labels (y_true) and predicted labels (y_pred)\n",
        "# Calculate and print accuracy\n",
        "accuracy = accuracy_score(y_test, y_predDT)\n",
        "print(\"Accuracy:\", accuracy)\n",
        "\n",
        "# Calculate and print precision\n",
        "precision = precision_score(y_test, y_predDT)\n",
        "print(\"Precision:\", precision)\n",
        "\n",
        "# Calculate and print recall\n",
        "recall = recall_score(y_test, y_predDT)\n",
        "print(\"Recall:\", recall)\n",
        "\n",
        "# Calculate and print F1-score\n",
        "f1 = f1_score(y_test, y_predDT)\n",
        "print(\"F1-score:\", f1)\n"
      ],
      "metadata": {
        "id": "wbCwRVNV2JQe"
      },
      "execution_count": null,
      "outputs": []
    },
    {
      "cell_type": "markdown",
      "source": [
        "RandomForest"
      ],
      "metadata": {
        "id": "XbyWj4JCzWPh"
      }
    },
    {
      "cell_type": "code",
      "source": [
        "from sklearn.ensemble import RandomForestClassifier\n",
        "classifierRT=RandomForestClassifier()\n",
        "classifierRT.fit(x_train,y_train)"
      ],
      "metadata": {
        "id": "TKdfn5u3zaIW"
      },
      "execution_count": null,
      "outputs": []
    },
    {
      "cell_type": "code",
      "source": [
        "y_predRT=classifierRT.predict(x_test)\n",
        "y_predRT"
      ],
      "metadata": {
        "id": "XwDgRKpOzeo3"
      },
      "execution_count": null,
      "outputs": []
    },
    {
      "cell_type": "code",
      "source": [
        "#Creating the Confusion matrix\n",
        "from sklearn.metrics import confusion_matrix\n",
        "cm= confusion_matrix(y_test, y_predRT)\n",
        "cm"
      ],
      "metadata": {
        "id": "ctNp1Z_WzxQT"
      },
      "execution_count": null,
      "outputs": []
    },
    {
      "cell_type": "code",
      "source": [
        "from sklearn.metrics import classification_report\n",
        "print(classification_report(y_test,y_predRT))"
      ],
      "metadata": {
        "id": "moqv3YElzzq2"
      },
      "execution_count": null,
      "outputs": []
    },
    {
      "cell_type": "code",
      "source": [
        "from sklearn.metrics import accuracy_score, precision_score, recall_score, f1_score\n",
        "\n",
        "# Assuming you have true labels (y_true) and predicted labels (y_pred)\n",
        "# Calculate and print accuracy\n",
        "accuracy = accuracy_score(y_test, y_predRT)\n",
        "print(\"Accuracy:\", accuracy)\n",
        "\n",
        "# Calculate and print precision\n",
        "precision = precision_score(y_test, y_predRT)\n",
        "print(\"Precision:\", precision)\n",
        "\n",
        "# Calculate and print recall\n",
        "recall = recall_score(y_test, y_predRT)\n",
        "print(\"Recall:\", recall)\n",
        "\n",
        "# Calculate and print F1-score\n",
        "f1 = f1_score(y_test, y_predRT)\n",
        "print(\"F1-score:\", f1)\n"
      ],
      "metadata": {
        "id": "vd0oextt1wIc"
      },
      "execution_count": null,
      "outputs": []
    },
    {
      "cell_type": "markdown",
      "source": [
        "Based on the above model performance,we can pick the model with highest accuracy"
      ],
      "metadata": {
        "id": "-vKKwm_-4EZd"
      }
    }
  ]
}