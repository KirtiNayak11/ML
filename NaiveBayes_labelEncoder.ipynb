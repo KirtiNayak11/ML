{
  "nbformat": 4,
  "nbformat_minor": 0,
  "metadata": {
    "colab": {
      "provenance": [],
      "authorship_tag": "ABX9TyOSVUvxP7R+jP1lPiZe0GIo",
      "include_colab_link": true
    },
    "kernelspec": {
      "name": "python3",
      "display_name": "Python 3"
    },
    "language_info": {
      "name": "python"
    }
  },
  "cells": [
    {
      "cell_type": "markdown",
      "metadata": {
        "id": "view-in-github",
        "colab_type": "text"
      },
      "source": [
        "<a href=\"https://colab.research.google.com/github/KirtiNayak11/ML/blob/main/NaiveBayes_labelEncoder.ipynb\" target=\"_parent\"><img src=\"https://colab.research.google.com/assets/colab-badge.svg\" alt=\"Open In Colab\"/></a>"
      ]
    },
    {
      "cell_type": "code",
      "execution_count": 1,
      "metadata": {
        "id": "f_KHHOZDHS0l"
      },
      "outputs": [],
      "source": [
        "CGPA = ['g9','g8','g9','l8','g8','g9','l8','g9','g8','g8']\n",
        "Inter = ['Y','N','N','N','Y','Y','Y','N','Y','Y']\n",
        "PK = ['+++','+','==','==','+','+','+','+++','+','==']\n",
        "CS = ['G','M','P','G','M','M','P','G','G','G']\n",
        "Job = ['Y','Y','N','N','Y','Y','N','Y','Y','Y']"
      ]
    },
    {
      "cell_type": "code",
      "source": [
        "from sklearn import preprocessing\n",
        "from sklearn.preprocessing import LabelEncoder\n",
        "le=preprocessing.LabelEncoder()\n",
        "eCGPA=le.fit_transform(CGPA)\n",
        "ePK=le.fit_transform(PK)\n",
        "eCS=le.fit_transform(CS)\n",
        "eInter=le.fit_transform(Inter)\n",
        "eJob=le.fit_transform(Job)"
      ],
      "metadata": {
        "id": "NYWnS1MnHXQq"
      },
      "execution_count": 6,
      "outputs": []
    },
    {
      "cell_type": "code",
      "source": [
        "features=[]\n",
        "for i in range(len(eCGPA)):\n",
        "        features.append([eCGPA[i],ePK[i],eCS[i],eInter[i]])"
      ],
      "metadata": {
        "id": "cJFEb_5DJqD5"
      },
      "execution_count": 9,
      "outputs": []
    },
    {
      "cell_type": "code",
      "source": [
        "from sklearn.model_selection import train_test_split\n",
        "xtrain,xtest,ytrain,ytest=train_test_split(features,eJob,test_size=0.5,random_state=0)"
      ],
      "metadata": {
        "id": "6sA-yWO_KOlJ"
      },
      "execution_count": 11,
      "outputs": []
    },
    {
      "cell_type": "code",
      "source": [
        "from sklearn.naive_bayes import GaussianNB\n",
        "model=GaussianNB()\n",
        "model.fit(xtrain,ytrain)\n",
        "ypred=model.predict(xtest)\n",
        "ypred"
      ],
      "metadata": {
        "colab": {
          "base_uri": "https://localhost:8080/"
        },
        "id": "a9PSsO8LKzTq",
        "outputId": "78fae6b3-991c-4166-f479-e2929b56b8b0"
      },
      "execution_count": 13,
      "outputs": [
        {
          "output_type": "execute_result",
          "data": {
            "text/plain": [
              "array([0, 1, 1, 1, 1])"
            ]
          },
          "metadata": {},
          "execution_count": 13
        }
      ]
    },
    {
      "cell_type": "code",
      "source": [
        "from sklearn.metrics import confusion_matrix,classification_report\n",
        "print(classification_report(ytest, ypred))\n",
        "print(confusion_matrix(ytest, ypred))\n"
      ],
      "metadata": {
        "colab": {
          "base_uri": "https://localhost:8080/"
        },
        "id": "VYaqIsV6Lyad",
        "outputId": "7958a3fd-6358-440f-aa4a-22ce47a05ee8"
      },
      "execution_count": 16,
      "outputs": [
        {
          "output_type": "stream",
          "name": "stdout",
          "text": [
            "              precision    recall  f1-score   support\n",
            "\n",
            "           0       1.00      1.00      1.00         1\n",
            "           1       1.00      1.00      1.00         4\n",
            "\n",
            "    accuracy                           1.00         5\n",
            "   macro avg       1.00      1.00      1.00         5\n",
            "weighted avg       1.00      1.00      1.00         5\n",
            "\n",
            "[[1 0]\n",
            " [0 4]]\n"
          ]
        }
      ]
    },
    {
      "cell_type": "code",
      "source": [
        "#print([2,0,2,0])\n",
        "#if model.predict([[2,0,2,0]])==1:\n",
        " # print(\"Predicted Value:Got JOB\")\n",
        "#else:\n",
        " # print(\"Predicted Value:Didn't get JOB\")\n",
        "\n",
        "#print([0,1,0,1])\n",
        "#if model.predict([[0,1,0,1]])==1:\n",
        " # print(\"Predicted Value:Got JOB\")\n",
        "#else:\n",
        " # print(\"Predicted Value:Didn't get JOB\")"
      ],
      "metadata": {
        "id": "9dw2Fmc2MQmH"
      },
      "execution_count": null,
      "outputs": []
    }
  ]
}